{
 "cells": [
  {
   "cell_type": "markdown",
   "metadata": {},
   "source": [
    "# Lab4. Training, Deploying and hosting custom model on SageMaker"
   ]
  },
  {
   "cell_type": "markdown",
   "metadata": {},
   "source": [
    "In this lab, you will run your training job with SageMaker. You will use your CNN architecture and script that you build at Lab3. "
   ]
  },
  {
   "cell_type": "markdown",
   "metadata": {},
   "source": [
    "* **Make sure you change the bucket name None with your S3 bucket name**\n"
   ]
  },
  {
   "cell_type": "code",
   "execution_count": 13,
   "metadata": {},
   "outputs": [],
   "source": [
    "bucket = None # custom bucket name such as 'leonkang-datalake-nv' \n",
    "prefix = 'anpr'\n",
    "assert bucket != None"
   ]
  },
  {
   "cell_type": "markdown",
   "metadata": {},
   "source": [
    " ## Set up SageMaker environment"
   ]
  },
  {
   "cell_type": "markdown",
   "metadata": {},
   "source": [
    "* **Plase note that the Tensorflow eager mode will be enabled by below code:**  \n",
    " tf.enable_eager_execution()"
   ]
  },
  {
   "cell_type": "code",
   "execution_count": 2,
   "metadata": {},
   "outputs": [],
   "source": [
    "from PIL import Image\n",
    "import json\n",
    "import os\n",
    "import matplotlib.image as mpimg\n",
    "import tensorflow as tf\n",
    "from tensorflow.contrib.eager.python import tfe\n",
    "from sagemaker.tensorflow import TensorFlow\n",
    "\n",
    "tf.enable_eager_execution()"
   ]
  },
  {
   "cell_type": "code",
   "execution_count": 3,
   "metadata": {},
   "outputs": [
    {
     "name": "stdout",
     "output_type": "stream",
     "text": [
      "arn:aws:iam::308961792850:role/service-role/AmazonSageMaker-ExecutionRole-20180531T094549\n",
      "CPU times: user 155 ms, sys: 18.8 ms, total: 174 ms\n",
      "Wall time: 191 ms\n"
     ]
    }
   ],
   "source": [
    "%%time\n",
    "import sagemaker\n",
    "from sagemaker import get_execution_role\n",
    "\n",
    "role = get_execution_role()\n",
    "print(role)\n",
    "sess = sagemaker.Session()"
   ]
  },
  {
   "cell_type": "markdown",
   "metadata": {},
   "source": [
    "## Upload data to S3"
   ]
  },
  {
   "cell_type": "markdown",
   "metadata": {},
   "source": [
    "* Upload files to S3\n",
    "* It may take several minutes **(5 minutes for 10,000 images)**"
   ]
  },
  {
   "cell_type": "code",
   "execution_count": 22,
   "metadata": {},
   "outputs": [],
   "source": [
    "s3_train_data = 's3://{}/{}/{}'.format(bucket, prefix, 'tf/tf-train')\n",
    "s3_validation_data = 's3://{}/{}/{}'.format(bucket, prefix, 'tf/tf-validation')\n",
    "s3_train_annotation = 's3://{}/{}/{}'.format(bucket, prefix, 'tf/tf-train_annotation')\n",
    "s3_validation_annotation = 's3://{}/{}/{}'.format(bucket, prefix, 'tf/tf-validation_annotation')"
   ]
  },
  {
   "cell_type": "code",
   "execution_count": 23,
   "metadata": {},
   "outputs": [
    {
     "name": "stdout",
     "output_type": "stream",
     "text": [
      "CPU times: user 4.05 s, sys: 586 ms, total: 4.63 s\n",
      "Wall time: 4min 22s\n"
     ]
    }
   ],
   "source": [
    "%%time\n",
    "!aws s3 cp tf/tf-train {s3_train_data} --recursive --include \"*1_0.png\" --include \"*2_0.png\" --include \"*3_0.png\" --include \"*4_0.png\" --include \"*5_0.png\" > /dev/null\n",
    "!aws s3 cp tf/tf-train {s3_train_data} --recursive --include \"*6_0.png\" --include \"*7_0.png\" --include \"*8_0.png\" --include \"*9_0.png\" --include \"*0_0.png\" > /dev/null\n",
    "!aws s3 cp tf/tf-train {s3_train_data} --recursive --include \"*1_1.png\" --include \"*2_1.png\" --include \"*3_1.png\" --include \"*4_1.png\" --include \"*5_1.png\" > /dev/null\n",
    "!aws s3 cp tf/tf-train {s3_train_data} --recursive --include \"*6_1.png\" --include \"*7_1.png\" --include \"*8_1.png\" --include \"*9_1.png\" --include \"*0_1.png\" > /dev/null\n",
    "!aws s3 cp tf/tf-validation {s3_validation_data} --recursive > /dev/null\n",
    "!aws s3 cp tf/tf-train_annotation {s3_train_annotation} --recursive > /dev/null\n",
    "!aws s3 cp tf/tf-validation_annotation {s3_validation_annotation} --recursive > /dev/null"
   ]
  },
  {
   "cell_type": "markdown",
   "metadata": {},
   "source": [
    "* Check upload results "
   ]
  },
  {
   "cell_type": "code",
   "execution_count": 25,
   "metadata": {},
   "outputs": [
    {
     "name": "stdout",
     "output_type": "stream",
     "text": [
      "8000\n",
      "2000\n",
      "8000\n",
      "2000\n"
     ]
    }
   ],
   "source": [
    "!aws s3 ls {s3_train_data}/ |wc -l\n",
    "!aws s3 ls {s3_validation_data}/ |wc -l\n",
    "!aws s3 ls {s3_train_annotation}/ |wc -l\n",
    "!aws s3 ls {s3_validation_annotation}/ |wc -l"
   ]
  },
  {
   "cell_type": "code",
   "execution_count": 26,
   "metadata": {},
   "outputs": [],
   "source": [
    "s3_output_location = 's3://{}/{}/tf-output'.format(bucket, prefix)"
   ]
  },
  {
   "cell_type": "markdown",
   "metadata": {},
   "source": [
    "## Check data channels"
   ]
  },
  {
   "cell_type": "markdown",
   "metadata": {},
   "source": [
    "Training data will be copied from S3 to Tensorflow container.  \n",
    "Refer to the below directory paths."
   ]
  },
  {
   "cell_type": "markdown",
   "metadata": {},
   "source": [
    "### Test and validation data directories\n",
    "1) In this notebook\n",
    "- train images: './tf/tf-train'\n",
    "- train annotations: './tf/tf-train_annotations'\n",
    "- validation images: './tf/tf-validation'\n",
    "- validation annotations: './tf/tf-validation_annotations'\n",
    "\n",
    "2) S3\n",
    "- train images: 's3://leonkang-datalake-seoul/anpr/tf/tf-train'\n",
    "- train annotations: 's3://leonkang-datalake-seoul/anpr/tf/tf-validation'\n",
    "- validation images: 's3://leonkang-datalake-seoul/anpr/tf/tf-train_annotations'\n",
    "- validation annotations: 's3://leonkang-datalake-seoul/anpr/tf/tf-validation_annotations'\n",
    "\n",
    "**3) Training container (Tensorflow container)**\n",
    "- **train images: '/opt/ml/input/data/train/'**\n",
    "- **train annotations: '/opt/ml/input/data/train_annotation/'**\n",
    "- **validation images: '/opt/ml/input/data/validation/'**\n",
    "- **validation annotations: '/opt/ml/input/data/validation_annotation/'**"
   ]
  },
  {
   "cell_type": "code",
   "execution_count": 28,
   "metadata": {},
   "outputs": [],
   "source": [
    "train_data = sagemaker.session.s3_input(s3_train_data, distribution='FullyReplicated', \n",
    "                        content_type='image/png', s3_data_type='S3Prefix')\n",
    "validation_data = sagemaker.session.s3_input(s3_validation_data, distribution='FullyReplicated', \n",
    "                             content_type='image/png', s3_data_type='S3Prefix')\n",
    "train_annotation = sagemaker.session.s3_input(s3_train_annotation, distribution='FullyReplicated', \n",
    "                             content_type='application/json', s3_data_type='S3Prefix')\n",
    "validation_annotation = sagemaker.session.s3_input(s3_validation_annotation, distribution='FullyReplicated', \n",
    "                             content_type='application/json', s3_data_type='S3Prefix')\n",
    "\n",
    "data_channels = {'train': train_data, 'validation': validation_data, \n",
    "                 'train_annotation': train_annotation, 'validation_annotation':validation_annotation}"
   ]
  },
  {
   "cell_type": "markdown",
   "metadata": {},
   "source": [
    "\n",
    "* Refer to API specs of SDK site\n",
    "    * https://github.com/aws/sagemaker-python-sdk/blob/master/src/sagemaker/tensorflow/README.rst\n",
    "    * https://sagemaker.readthedocs.io/en/latest/using_tf.html\n",
    "* Refer to the API document \n",
    "    * https://sagemaker.readthedocs.io/en/stable/sagemaker.tensorflow.html  \n",
    "   (Note that checkpoint_path, training_steps, evaluation_steps, requirements_file args are not permitted when using Script Mode)"
   ]
  },
  {
   "cell_type": "code",
   "execution_count": null,
   "metadata": {},
   "outputs": [],
   "source": []
  },
  {
   "cell_type": "markdown",
   "metadata": {},
   "source": [
    "## Check the code of 'cnn_ocr.py' for entry_point\n",
    "* Thins file will be passed as entry_point when defining Tensorflow Estimator\n",
    "* Notice that **model() function and get_data_pair() function are exactly same** as Lab3\n",
    "* In the main function, input data are loaded from local directory **'/opt/ml/input/data/{...channel...}'**\n",
    "* In the main function, output model will be stored in **'/opt/ml/model'** directory\n",
    "* Hperparameters are parsed from argparse.ArgumentParser() as they will **be passed as arguments of the python run command line script**."
   ]
  },
  {
   "cell_type": "code",
   "execution_count": 79,
   "metadata": {},
   "outputs": [],
   "source": [
    "#!cat cnn_ocr.py"
   ]
  },
  {
   "cell_type": "markdown",
   "metadata": {},
   "source": [
    "```python\n",
    "import numpy as np\n",
    "from keras import layers\n",
    "from keras.layers import Input, Dense, Activation, ZeroPadding2D, BatchNormalization, Flatten, Conv2D\n",
    "from keras.layers import AveragePooling2D, MaxPooling2D, Dropout, GlobalMaxPooling2D, GlobalAveragePooling2D\n",
    "from keras.models import Model\n",
    "from keras.preprocessing import image\n",
    "from keras.utils import layer_utils\n",
    "from keras.utils.data_utils import get_file\n",
    "from keras.applications.imagenet_utils import preprocess_input\n",
    "from keras.utils.vis_utils import model_to_dot\n",
    "from keras.utils import plot_model\n",
    "from keras.layers import concatenate\n",
    "import os\n",
    "import argparse\n",
    "\n",
    "import json\n",
    "from PIL import Image\n",
    "\n",
    "import keras.backend as K\n",
    "K.set_image_data_format('channels_last')\n",
    "import tensorflow as tf\n",
    "\n",
    "from tensorflow.contrib.eager.python import tfe\n",
    "\n",
    "tf.enable_eager_execution()\n",
    "tf.set_random_seed(0)\n",
    "\n",
    "NUMS =['1', '2', '3', '4', '5', '6', '7', '8', '9', '0']\n",
    "CHARS=['가', '나', '다', '라', '마', '거', '너', '더', '러', '머', '고', '노', '도', '로', '모', '구', '누', '두', '루', '무', \n",
    "       '버', '서', '어', '저', '처', '커', '터', '퍼', '보', '소', '오', '조', '초', '코', '토', '포', '부', '수', '우', '주', '추', '쿠', '투', '푸', '후', \n",
    "       '그', '느', '드', '르', '므', '브', '스', '으', '즈', '츠', '크', '트', '프', '흐',\n",
    "       '바', '사', '아', '자', '차', '카', '타', '파', '하', '허', '호']\n",
    "SPACE=[' ']\n",
    "JOIN =NUMS + CHARS + SPACE\n",
    "n_chr = len(JOIN)\n",
    "\n",
    "def parse_args():\n",
    "    \n",
    "    parser = argparse.ArgumentParser()\n",
    "\n",
    "    # hyperparameters sent by the client are passed as command-line arguments to the script\n",
    "    parser.add_argument('--epochs', type=int, default=100)\n",
    "    parser.add_argument('--batch_size', type=int, default=64)\n",
    "    parser.add_argument('--learning_rate', type=float, default=0.001)\n",
    "    parser.add_argument('--verbose', type=int, default=1)\n",
    "    \n",
    "    # data directories\n",
    "    parser.add_argument('--train', type=str, default=os.environ.get('SM_CHANNEL_TRAIN'))\n",
    "    parser.add_argument('--test', type=str, default=os.environ.get('SM_CHANNEL_TEST'))\n",
    "    \n",
    "    # model directory: we will use the default set by SageMaker, /opt/ml/model\n",
    "    parser.add_argument('--model_dir', type=str, default=os.environ.get('SM_MODEL_DIR'))\n",
    "    \n",
    "    return parser.parse_known_args()\n",
    "\n",
    "def get_data_pair(train_dir, annotation_dir):\n",
    "    t_jsns = os.listdir(annotation_dir)\n",
    "    flg_first = True\n",
    "    for i in t_jsns:\n",
    "        ext = i.split('.')[1]\n",
    "        if ext == 'json':\n",
    "            with open(annotation_dir + i, \"r\") as jfile:\n",
    "                jdata = json.load(jfile)\n",
    "                # read image\n",
    "                img=Image.open(train_dir + jdata['file']) \n",
    "                img = img.resize((128, 64))\n",
    "                imgs = img if flg_first else np.append(imgs, img)\n",
    "                # read license plate numbers\n",
    "                n_ = np.array(jdata['nums'])\n",
    "                Y_t = np.zeros((n_chr, 7))\n",
    "                Y_t[n_, np.arange(7)] = 1\n",
    "                Y_ = Y_t if (flg_first) else np.append(Y_, Y_t)\n",
    "                flg_first = False\n",
    "    digits= np.split(Y_.reshape([-1,7]), 7, axis=1)\n",
    "    return imgs.reshape([-1, 128, 64, 1])/255., [i.reshape([-1,81]) for i in digits]\n",
    "\n",
    "def model(input_shape):\n",
    "    # Define the input placeholder as a tensor with shape input_shape. Think of this as your input image!\n",
    "    X_input = tf.keras.Input(input_shape)\n",
    "\n",
    "    # Zero-Padding: pads the border of X_input with zeroes\n",
    "    X = tf.keras.layers.ZeroPadding2D((2, 2))(X_input)\n",
    "\n",
    "    # CONV0 -> BN -> RELU -> MAXPOOL applied to X\n",
    "    X = tf.keras.layers.Conv2D(48, (5, 5), strides = (1, 1), name = 'conv0')(X)\n",
    "    X = tf.keras.layers.BatchNormalization(axis = 3, name = 'bn0')(X)\n",
    "    X = tf.keras.layers.Activation('relu')(X)\n",
    "    X = tf.keras.layers.MaxPooling2D((2, 2), strides = (2, 2), name='max_pool0')(X)\n",
    "\n",
    "    # CONV1 -> BN -> RELU -> MAXPOOL applied to X\n",
    "    X = tf.keras.layers.Conv2D(64, (5, 5), strides = (1, 1), name = 'conv1')(X)\n",
    "    X = tf.keras.layers.BatchNormalization(axis = 3, name = 'bn1')(X)\n",
    "    X = tf.keras.layers.Activation('relu')(X)\n",
    "    X = tf.keras.layers.MaxPooling2D((1, 2), strides = (2, 2), name='max_pool1')(X)\n",
    "\n",
    "    # CONV2 -> BN -> RELU -> MAXPOOL applied to X\n",
    "    X = tf.keras.layers.Conv2D(64, (5, 5), strides = (1, 1), name = 'conv2')(X)\n",
    "    X = tf.keras.layers.BatchNormalization(axis = 3, name = 'bn2')(X)\n",
    "    X = tf.keras.layers.Activation('relu')(X)\n",
    "    X = tf.keras.layers.MaxPooling2D((2, 2), strides = (2, 2), name='max_pool2')(X)\n",
    "\n",
    "    # FLATTEN X (means convert it to a vector) + FULLYCONNECTED\n",
    "    X = tf.keras.layers.Flatten()(X)\n",
    "\n",
    "    #----------------------------------------------------------\n",
    "    d1 = tf.keras.layers.Dense(81, activation='softmax', name='d1')(X)\n",
    "    d2 = tf.keras.layers.Dense(81, activation='softmax', name='d2')(X)\n",
    "    d3 = tf.keras.layers.Dense(81, activation='softmax', name='d3')(X)\n",
    "    d4 = tf.keras.layers.Dense(81, activation='softmax', name='d4')(X)\n",
    "    d5 = tf.keras.layers.Dense(81, activation='softmax', name='d5')(X)\n",
    "    d6 = tf.keras.layers.Dense(81, activation='softmax', name='d6')(X)\n",
    "    d7 = tf.keras.layers.Dense(81, activation='softmax', name='d7')(X)\n",
    "    \n",
    "    model = tf.keras.Model(inputs = X_input, \n",
    "                  outputs = [d1,d2,d3,d4,d5,d6,d7],\n",
    "                  name='CNN_ANPR')\n",
    "\n",
    "    return model\n",
    "\n",
    "if __name__ == \"__main__\":\n",
    "\n",
    "    args, _ = parse_args()\n",
    "    print('args test: learning_rate = {}, batch_size = {}, epochs = {}'.format(args.learning_rate, args.batch_size, args.epochs))\n",
    "    \n",
    "    # change the path to use '/opt/ml/input/data/{channel}/...'\n",
    "    t_imgs, t_annotations = get_data_pair('/opt/ml/input/data/train/', '/opt/ml/input/data/train_annotation/')\n",
    "    v_imgs, v_annotations = get_data_pair('/opt/ml/input/data/validation/', '/opt/ml/input/data/validation_annotation/')\n",
    "    \n",
    "    device = '/gpu:0' \n",
    "    print(device)\n",
    "    \n",
    "    with tf.device(device):\n",
    "        input_shape = (128,64,1)\n",
    "        model_k = model(input_shape)\n",
    "        \n",
    "        # use hyperparameters ex) args.learning_rate\n",
    "        model_k.compile(optimizer=tf.train.AdamOptimizer(args.learning_rate), \n",
    "                loss=['categorical_crossentropy','categorical_crossentropy','categorical_crossentropy','categorical_crossentropy',\n",
    "                      'categorical_crossentropy','categorical_crossentropy','categorical_crossentropy'],\n",
    "                metrics = [\"accuracy\"])\n",
    "        \n",
    "        # use hyperparameters ex) args.epochs, args.batch_size, etc.\n",
    "        model_k.fit(t_imgs, [i.reshape([-1,81]) for i in t_annotations], \n",
    "            validation_data=(v_imgs, [i.reshape([-1,81]) for i in v_annotations]), \n",
    "            epochs=args.epochs, batch_size=args.batch_size, verbose=args.verbose)\n",
    "        \n",
    "        scores = model_k.evaluate(v_imgs, [i for i in v_annotations], batch_size=args.batch_size, verbose=1, sample_weight=None)\n",
    "        print(\"scores: \", scores)\n",
    "        \n",
    "        # save checkpoint for locally loading in notebook\n",
    "        saver = tfe.Saver(model_k.variables)\n",
    "        saver.save(args.model_dir + '/weights.ckpt')\n",
    "        \n",
    "        # create a separate SavedModel for deployment to a SageMaker endpoint with TensorFlow Serving\n",
    "        tf.contrib.saved_model.save_keras_model(model_k, args.model_dir)\n",
    "            \n",
    "```"
   ]
  },
  {
   "cell_type": "code",
   "execution_count": null,
   "metadata": {},
   "outputs": [],
   "source": []
  },
  {
   "cell_type": "markdown",
   "metadata": {},
   "source": [
    "## Run training job\n",
    "* **This time, we will run 30 epochs. (It may take laround 15 minutes)**\n",
    "* Note that we use p3.2xlarge instance, which will shorten our training time with GPU. \n",
    "* To see the detailed message of training job, set the verobose to 1(true)."
   ]
  },
  {
   "cell_type": "code",
   "execution_count": 60,
   "metadata": {},
   "outputs": [],
   "source": [
    "model_dir = '/opt/ml/model'\n",
    "train_instance_type='ml.p3.2xlarge'\n",
    "hyperparameters = {'epochs': 30, \n",
    "                   'batch_size': 128,\n",
    "                   'learning_rate': 0.001,\n",
    "                   'verbose': 0}"
   ]
  },
  {
   "cell_type": "code",
   "execution_count": 61,
   "metadata": {},
   "outputs": [],
   "source": [
    "ocr_estimator = TensorFlow(entry_point='cnn_ocr.py',\n",
    "                             role=role,\n",
    "                             model_dir=model_dir,\n",
    "                             hyperparameters=hyperparameters,\n",
    "                             train_instance_count=2,\n",
    "                             train_instance_type=train_instance_type,\n",
    "                             distributions={'parameter_server': {'enabled': True}},\n",
    "#                              distributions={\n",
    "#                                   'mpi': {\n",
    "#                                       'enabled': True,\n",
    "#                                       'processes_per_host': 8,\n",
    "#                                       'custom_mpi_options': '--NCCL_DEBUG INFO'\n",
    "#                                   }\n",
    "#                              }),\n",
    "                             framework_version='1.12', \n",
    "                             py_version='py3')"
   ]
  },
  {
   "cell_type": "code",
   "execution_count": 63,
   "metadata": {},
   "outputs": [
    {
     "name": "stderr",
     "output_type": "stream",
     "text": [
      "INFO:sagemaker:Creating training-job with name: sagemaker-tensorflow-scriptmode-2019-06-01-06-48-35-871\n"
     ]
    },
    {
     "name": "stdout",
     "output_type": "stream",
     "text": [
      "2019-06-01 06:48:36 Starting - Starting the training job...\n",
      "2019-06-01 06:48:39 Starting - Launching requested ML instances......\n",
      "2019-06-01 06:49:47 Starting - Preparing the instances for training......\n",
      "2019-06-01 06:51:01 Downloading - Downloading input data..............\n",
      "\u001b[31m2019-06-01 06:53:20,028 sagemaker-containers INFO     Imported framework sagemaker_tensorflow_container.training\u001b[0m\n",
      "\u001b[31m2019-06-01 06:53:20,057 sagemaker_tensorflow_container.training INFO     Running distributed training job with parameter servers\u001b[0m\n",
      "\u001b[31m2019-06-01 06:53:20,057 sagemaker_tensorflow_container.training INFO     Launching parameter server process\u001b[0m\n",
      "\u001b[31m2019-06-01 06:53:20,057 sagemaker_tensorflow_container.training INFO     Running distributed training job with parameter servers\u001b[0m\n",
      "\u001b[31m2019-06-01 06:53:20,187 sagemaker_tensorflow_container.training INFO     Launching worker process\u001b[0m\n",
      "\u001b[31m2019-06-01 06:53:20,577 sagemaker-containers INFO     Invoking user script\n",
      "\u001b[0m\n",
      "\u001b[31mTraining Env:\n",
      "\u001b[0m\n",
      "\u001b[31m{\n",
      "    \"additional_framework_parameters\": {\n",
      "        \"sagemaker_parameter_server_enabled\": true\n",
      "    },\n",
      "    \"channel_input_dirs\": {\n",
      "        \"validation_annotation\": \"/opt/ml/input/data/validation_annotation\",\n",
      "        \"train_annotation\": \"/opt/ml/input/data/train_annotation\",\n",
      "        \"validation\": \"/opt/ml/input/data/validation\",\n",
      "        \"train\": \"/opt/ml/input/data/train\"\n",
      "    },\n",
      "    \"current_host\": \"algo-2\",\n",
      "    \"framework_module\": \"sagemaker_tensorflow_container.training:main\",\n",
      "    \"hosts\": [\n",
      "        \"algo-1\",\n",
      "        \"algo-2\"\n",
      "    ],\n",
      "    \"hyperparameters\": {\n",
      "        \"batch_size\": 128,\n",
      "        \"model_dir\": \"/opt/ml/model\",\n",
      "        \"epochs\": 30,\n",
      "        \"learning_rate\": 0.001,\n",
      "        \"verbose\": 0\n",
      "    },\n",
      "    \"input_config_dir\": \"/opt/ml/input/config\",\n",
      "    \"input_data_config\": {\n",
      "        \"validation_annotation\": {\n",
      "            \"ContentType\": \"application/json\",\n",
      "            \"TrainingInputMode\": \"File\",\n",
      "            \"S3DistributionType\": \"FullyReplicated\",\n",
      "            \"RecordWrapperType\": \"None\"\n",
      "        },\n",
      "        \"train_annotation\": {\n",
      "            \"ContentType\": \"application/json\",\n",
      "            \"TrainingInputMode\": \"File\",\n",
      "            \"S3DistributionType\": \"FullyReplicated\",\n",
      "            \"RecordWrapperType\": \"None\"\n",
      "        },\n",
      "        \"validation\": {\n",
      "            \"ContentType\": \"image/png\",\n",
      "            \"TrainingInputMode\": \"File\",\n",
      "            \"S3DistributionType\": \"FullyReplicated\",\n",
      "            \"RecordWrapperType\": \"None\"\n",
      "        },\n",
      "        \"train\": {\n",
      "            \"ContentType\": \"image/png\",\n",
      "            \"TrainingInputMode\": \"File\",\n",
      "            \"S3DistributionType\": \"FullyReplicated\",\n",
      "            \"RecordWrapperType\": \"None\"\n",
      "        }\n",
      "    },\n",
      "    \"input_dir\": \"/opt/ml/input\",\n",
      "    \"is_master\": false,\n",
      "    \"job_name\": \"sagemaker-tensorflow-scriptmode-2019-06-01-06-48-35-871\",\n",
      "    \"log_level\": 20,\n",
      "    \"master_hostname\": \"algo-1\",\n",
      "    \"model_dir\": \"/opt/ml/model\",\n",
      "    \"module_dir\": \"s3://sagemaker-us-east-1-308961792850/sagemaker-tensorflow-scriptmode-2019-06-01-06-48-35-871/source/sourcedir.tar.gz\",\n",
      "    \"module_name\": \"cnn_ocr\",\n",
      "    \"network_interface_name\": \"ethwe\",\n",
      "    \"num_cpus\": 8,\n",
      "    \"num_gpus\": 1,\n",
      "    \"output_data_dir\": \"/opt/ml/output/data\",\n",
      "    \"output_dir\": \"/opt/ml/output\",\n",
      "    \"output_intermediate_dir\": \"/opt/ml/output/intermediate\",\n",
      "    \"resource_config\": {\n",
      "        \"current_host\": \"algo-2\",\n",
      "        \"hosts\": [\n",
      "            \"algo-1\",\n",
      "            \"algo-2\"\n",
      "        ],\n",
      "        \"network_interface_name\": \"ethwe\"\n",
      "    },\n",
      "    \"user_entry_point\": \"cnn_ocr.py\"\u001b[0m\n",
      "\u001b[31m}\n",
      "\u001b[0m\n",
      "\u001b[31mEnvironment variables:\n",
      "\u001b[0m\n",
      "\u001b[31mSM_HOSTS=[\"algo-1\",\"algo-2\"]\u001b[0m\n",
      "\u001b[31mSM_NETWORK_INTERFACE_NAME=ethwe\u001b[0m\n",
      "\u001b[31mSM_HPS={\"batch_size\":128,\"epochs\":30,\"learning_rate\":0.001,\"model_dir\":\"/opt/ml/model\",\"verbose\":0}\u001b[0m\n",
      "\u001b[31mSM_USER_ENTRY_POINT=cnn_ocr.py\u001b[0m\n",
      "\u001b[31mSM_FRAMEWORK_PARAMS={\"sagemaker_parameter_server_enabled\":true}\u001b[0m\n",
      "\u001b[31mSM_RESOURCE_CONFIG={\"current_host\":\"algo-2\",\"hosts\":[\"algo-1\",\"algo-2\"],\"network_interface_name\":\"ethwe\"}\u001b[0m\n",
      "\u001b[31mSM_INPUT_DATA_CONFIG={\"train\":{\"ContentType\":\"image/png\",\"RecordWrapperType\":\"None\",\"S3DistributionType\":\"FullyReplicated\",\"TrainingInputMode\":\"File\"},\"train_annotation\":{\"ContentType\":\"application/json\",\"RecordWrapperType\":\"None\",\"S3DistributionType\":\"FullyReplicated\",\"TrainingInputMode\":\"File\"},\"validation\":{\"ContentType\":\"image/png\",\"RecordWrapperType\":\"None\",\"S3DistributionType\":\"FullyReplicated\",\"TrainingInputMode\":\"File\"},\"validation_annotation\":{\"ContentType\":\"application/json\",\"RecordWrapperType\":\"None\",\"S3DistributionType\":\"FullyReplicated\",\"TrainingInputMode\":\"File\"}}\u001b[0m\n",
      "\u001b[31mSM_OUTPUT_DATA_DIR=/opt/ml/output/data\u001b[0m\n",
      "\u001b[31mSM_CHANNELS=[\"train\",\"train_annotation\",\"validation\",\"validation_annotation\"]\u001b[0m\n",
      "\u001b[31mSM_CURRENT_HOST=algo-2\u001b[0m\n",
      "\u001b[31mSM_MODULE_NAME=cnn_ocr\u001b[0m\n",
      "\u001b[31mSM_LOG_LEVEL=20\u001b[0m\n",
      "\u001b[31mSM_FRAMEWORK_MODULE=sagemaker_tensorflow_container.training:main\u001b[0m\n",
      "\u001b[31mSM_INPUT_DIR=/opt/ml/input\u001b[0m\n",
      "\u001b[31mSM_INPUT_CONFIG_DIR=/opt/ml/input/config\u001b[0m\n",
      "\u001b[31mSM_OUTPUT_DIR=/opt/ml/output\u001b[0m\n",
      "\u001b[31mSM_NUM_CPUS=8\u001b[0m\n",
      "\u001b[31mSM_NUM_GPUS=1\u001b[0m\n",
      "\u001b[31mSM_MODEL_DIR=/opt/ml/model\u001b[0m\n",
      "\u001b[31mSM_MODULE_DIR=s3://sagemaker-us-east-1-308961792850/sagemaker-tensorflow-scriptmode-2019-06-01-06-48-35-871/source/sourcedir.tar.gz\u001b[0m\n",
      "\u001b[31mSM_TRAINING_ENV={\"additional_framework_parameters\":{\"sagemaker_parameter_server_enabled\":true},\"channel_input_dirs\":{\"train\":\"/opt/ml/input/data/train\",\"train_annotation\":\"/opt/ml/input/data/train_annotation\",\"validation\":\"/opt/ml/input/data/validation\",\"validation_annotation\":\"/opt/ml/input/data/validation_annotation\"},\"current_host\":\"algo-2\",\"framework_module\":\"sagemaker_tensorflow_container.training:main\",\"hosts\":[\"algo-1\",\"algo-2\"],\"hyperparameters\":{\"batch_size\":128,\"epochs\":30,\"learning_rate\":0.001,\"model_dir\":\"/opt/ml/model\",\"verbose\":0},\"input_config_dir\":\"/opt/ml/input/config\",\"input_data_config\":{\"train\":{\"ContentType\":\"image/png\",\"RecordWrapperType\":\"None\",\"S3DistributionType\":\"FullyReplicated\",\"TrainingInputMode\":\"File\"},\"train_annotation\":{\"ContentType\":\"application/json\",\"RecordWrapperType\":\"None\",\"S3DistributionType\":\"FullyReplicated\",\"TrainingInputMode\":\"File\"},\"validation\":{\"ContentType\":\"image/png\",\"RecordWrapperType\":\"None\",\"S3DistributionType\":\"FullyReplicated\",\"TrainingInputMode\":\"File\"},\"validation_annotation\":{\"ContentType\":\"application/json\",\"RecordWrapperType\":\"None\",\"S3DistributionType\":\"FullyReplicated\",\"TrainingInputMode\":\"File\"}},\"input_dir\":\"/opt/ml/input\",\"is_master\":false,\"job_name\":\"sagemaker-tensorflow-scriptmode-2019-06-01-06-48-35-871\",\"log_level\":20,\"master_hostname\":\"algo-1\",\"model_dir\":\"/opt/ml/model\",\"module_dir\":\"s3://sagemaker-us-east-1-308961792850/sagemaker-tensorflow-scriptmode-2019-06-01-06-48-35-871/source/sourcedir.tar.gz\",\"module_name\":\"cnn_ocr\",\"network_interface_name\":\"ethwe\",\"num_cpus\":8,\"num_gpus\":1,\"output_data_dir\":\"/opt/ml/output/data\",\"output_dir\":\"/opt/ml/output\",\"output_intermediate_dir\":\"/opt/ml/output/intermediate\",\"resource_config\":{\"current_host\":\"algo-2\",\"hosts\":[\"algo-1\",\"algo-2\"],\"network_interface_name\":\"ethwe\"},\"user_entry_point\":\"cnn_ocr.py\"}\u001b[0m\n",
      "\u001b[31mSM_USER_ARGS=[\"--batch_size\",\"128\",\"--epochs\",\"30\",\"--learning_rate\",\"0.001\",\"--model_dir\",\"/opt/ml/model\",\"--verbose\",\"0\"]\u001b[0m\n",
      "\u001b[31mSM_OUTPUT_INTERMEDIATE_DIR=/opt/ml/output/intermediate\u001b[0m\n",
      "\u001b[31mSM_CHANNEL_VALIDATION_ANNOTATION=/opt/ml/input/data/validation_annotation\u001b[0m\n",
      "\u001b[31mSM_CHANNEL_TRAIN_ANNOTATION=/opt/ml/input/data/train_annotation\u001b[0m\n",
      "\u001b[31mSM_CHANNEL_VALIDATION=/opt/ml/input/data/validation\u001b[0m\n",
      "\u001b[31mSM_CHANNEL_TRAIN=/opt/ml/input/data/train\u001b[0m\n",
      "\u001b[31mSM_HP_BATCH_SIZE=128\u001b[0m\n",
      "\u001b[31mSM_HP_MODEL_DIR=/opt/ml/model\u001b[0m\n",
      "\u001b[31mSM_HP_EPOCHS=30\u001b[0m\n",
      "\u001b[31mSM_HP_LEARNING_RATE=0.001\u001b[0m\n",
      "\u001b[31mSM_HP_VERBOSE=0\u001b[0m\n",
      "\u001b[31mTF_CONFIG={\"cluster\": {\"master\": [\"algo-1:2222\"], \"ps\": [\"algo-1:2223\", \"algo-2:2223\"], \"worker\": [\"algo-2:2222\"]}, \"environment\": \"cloud\", \"task\": {\"index\": 0, \"type\": \"worker\"}}\u001b[0m\n",
      "\u001b[31mPYTHONPATH=/opt/ml/code:/usr/local/bin:/usr/lib/python36.zip:/usr/lib/python3.6:/usr/lib/python3.6/lib-dynload:/usr/local/lib/python3.6/dist-packages:/usr/lib/python3/dist-packages\n",
      "\u001b[0m\n",
      "\u001b[31mInvoking script with the following command:\n",
      "\u001b[0m\n",
      "\u001b[31m/usr/bin/python cnn_ocr.py --batch_size 128 --epochs 30 --learning_rate 0.001 --model_dir /opt/ml/model --verbose 0\n",
      "\n",
      "\u001b[0m\n",
      "\u001b[31mUsing TensorFlow backend.\u001b[0m\n",
      "\n",
      "2019-06-01 06:53:24 Training - Training image download completed. Training in progress.\u001b[31m2019-06-01 06:53:21,062 sagemaker-containers INFO     Imported framework sagemaker_tensorflow_container.training\u001b[0m\n",
      "\u001b[31m2019-06-01 06:53:21,091 sagemaker_tensorflow_container.training INFO     Running distributed training job with parameter servers\u001b[0m\n",
      "\u001b[31m2019-06-01 06:53:21,091 sagemaker_tensorflow_container.training INFO     Launching parameter server process\u001b[0m\n",
      "\u001b[31m2019-06-01 06:53:21,091 sagemaker_tensorflow_container.training INFO     Running distributed training job with parameter servers\u001b[0m\n",
      "\u001b[31m2019-06-01 06:53:21,229 sagemaker_tensorflow_container.training INFO     Launching worker process\u001b[0m\n",
      "\u001b[31m2019-06-01 06:53:21,621 sagemaker-containers INFO     Invoking user script\n",
      "\u001b[0m\n",
      "\u001b[31mTraining Env:\n",
      "\u001b[0m\n",
      "\u001b[31m{\n",
      "    \"additional_framework_parameters\": {\n",
      "        \"sagemaker_parameter_server_enabled\": true\n",
      "    },\n",
      "    \"channel_input_dirs\": {\n",
      "        \"validation_annotation\": \"/opt/ml/input/data/validation_annotation\",\n",
      "        \"train_annotation\": \"/opt/ml/input/data/train_annotation\",\n",
      "        \"validation\": \"/opt/ml/input/data/validation\",\n",
      "        \"train\": \"/opt/ml/input/data/train\"\n",
      "    },\n",
      "    \"current_host\": \"algo-1\",\n",
      "    \"framework_module\": \"sagemaker_tensorflow_container.training:main\",\n",
      "    \"hosts\": [\n",
      "        \"algo-1\",\n",
      "        \"algo-2\"\n",
      "    ],\n",
      "    \"hyperparameters\": {\n",
      "        \"batch_size\": 128,\n",
      "        \"model_dir\": \"/opt/ml/model\",\n",
      "        \"epochs\": 30,\n",
      "        \"learning_rate\": 0.001,\n",
      "        \"verbose\": 0\n",
      "    },\n",
      "    \"input_config_dir\": \"/opt/ml/input/config\",\n",
      "    \"input_data_config\": {\n",
      "        \"validation_annotation\": {\n",
      "            \"ContentType\": \"application/json\",\n",
      "            \"TrainingInputMode\": \"File\",\n",
      "            \"S3DistributionType\": \"FullyReplicated\",\n",
      "            \"RecordWrapperType\": \"None\"\n",
      "        },\n",
      "        \"train_annotation\": {\n",
      "            \"ContentType\": \"application/json\",\n",
      "            \"TrainingInputMode\": \"File\",\n",
      "            \"S3DistributionType\": \"FullyReplicated\",\n",
      "            \"RecordWrapperType\": \"None\"\n",
      "        },\n",
      "        \"validation\": {\n",
      "            \"ContentType\": \"image/png\",\n",
      "            \"TrainingInputMode\": \"File\",\n",
      "            \"S3DistributionType\": \"FullyReplicated\",\n",
      "            \"RecordWrapperType\": \"None\"\n",
      "        },\n",
      "        \"train\": {\n",
      "            \"ContentType\": \"image/png\",\n",
      "            \"TrainingInputMode\": \"File\",\n",
      "            \"S3DistributionType\": \"FullyReplicated\",\n",
      "            \"RecordWrapperType\": \"None\"\n",
      "        }\n",
      "    },\n",
      "    \"input_dir\": \"/opt/ml/input\",\n",
      "    \"is_master\": true,\n",
      "    \"job_name\": \"sagemaker-tensorflow-scriptmode-2019-06-01-06-48-35-871\",\n",
      "    \"log_level\": 20,\n",
      "    \"master_hostname\": \"algo-1\",\n",
      "    \"model_dir\": \"/opt/ml/model\",\n",
      "    \"module_dir\": \"s3://sagemaker-us-east-1-308961792850/sagemaker-tensorflow-scriptmode-2019-06-01-06-48-35-871/source/sourcedir.tar.gz\",\n",
      "    \"module_name\": \"cnn_ocr\",\n",
      "    \"network_interface_name\": \"ethwe\",\n",
      "    \"num_cpus\": 8,\n",
      "    \"num_gpus\": 1,\n",
      "    \"output_data_dir\": \"/opt/ml/output/data\",\n",
      "    \"output_dir\": \"/opt/ml/output\",\n",
      "    \"output_intermediate_dir\": \"/opt/ml/output/intermediate\",\n",
      "    \"resource_config\": {\n",
      "        \"current_host\": \"algo-1\",\n",
      "        \"hosts\": [\n",
      "            \"algo-1\",\n",
      "            \"algo-2\"\n",
      "        ],\n",
      "        \"network_interface_name\": \"ethwe\"\n",
      "    },\n",
      "    \"user_entry_point\": \"cnn_ocr.py\"\u001b[0m\n",
      "\u001b[31m}\n",
      "\u001b[0m\n",
      "\u001b[31mEnvironment variables:\n",
      "\u001b[0m\n",
      "\u001b[31mSM_HOSTS=[\"algo-1\",\"algo-2\"]\u001b[0m\n",
      "\u001b[31mSM_NETWORK_INTERFACE_NAME=ethwe\u001b[0m\n",
      "\u001b[31mSM_HPS={\"batch_size\":128,\"epochs\":30,\"learning_rate\":0.001,\"model_dir\":\"/opt/ml/model\",\"verbose\":0}\u001b[0m\n",
      "\u001b[31mSM_USER_ENTRY_POINT=cnn_ocr.py\u001b[0m\n",
      "\u001b[31mSM_FRAMEWORK_PARAMS={\"sagemaker_parameter_server_enabled\":true}\u001b[0m\n",
      "\u001b[31mSM_RESOURCE_CONFIG={\"current_host\":\"algo-1\",\"hosts\":[\"algo-1\",\"algo-2\"],\"network_interface_name\":\"ethwe\"}\u001b[0m\n",
      "\u001b[31mSM_INPUT_DATA_CONFIG={\"train\":{\"ContentType\":\"image/png\",\"RecordWrapperType\":\"None\",\"S3DistributionType\":\"FullyReplicated\",\"TrainingInputMode\":\"File\"},\"train_annotation\":{\"ContentType\":\"application/json\",\"RecordWrapperType\":\"None\",\"S3DistributionType\":\"FullyReplicated\",\"TrainingInputMode\":\"File\"},\"validation\":{\"ContentType\":\"image/png\",\"RecordWrapperType\":\"None\",\"S3DistributionType\":\"FullyReplicated\",\"TrainingInputMode\":\"File\"},\"validation_annotation\":{\"ContentType\":\"application/json\",\"RecordWrapperType\":\"None\",\"S3DistributionType\":\"FullyReplicated\",\"TrainingInputMode\":\"File\"}}\u001b[0m\n",
      "\u001b[31mSM_OUTPUT_DATA_DIR=/opt/ml/output/data\u001b[0m\n",
      "\u001b[31mSM_CHANNELS=[\"train\",\"train_annotation\",\"validation\",\"validation_annotation\"]\u001b[0m\n",
      "\u001b[31mSM_CURRENT_HOST=algo-1\u001b[0m\n",
      "\u001b[31mSM_MODULE_NAME=cnn_ocr\u001b[0m\n",
      "\u001b[31mSM_LOG_LEVEL=20\u001b[0m\n",
      "\u001b[31mSM_FRAMEWORK_MODULE=sagemaker_tensorflow_container.training:main\u001b[0m\n",
      "\u001b[31mSM_INPUT_DIR=/opt/ml/input\u001b[0m\n",
      "\u001b[31mSM_INPUT_CONFIG_DIR=/opt/ml/input/config\u001b[0m\n",
      "\u001b[31mSM_OUTPUT_DIR=/opt/ml/output\u001b[0m\n",
      "\u001b[31mSM_NUM_CPUS=8\u001b[0m\n",
      "\u001b[31mSM_NUM_GPUS=1\u001b[0m\n",
      "\u001b[31mSM_MODEL_DIR=/opt/ml/model\u001b[0m\n",
      "\u001b[31mSM_MODULE_DIR=s3://sagemaker-us-east-1-308961792850/sagemaker-tensorflow-scriptmode-2019-06-01-06-48-35-871/source/sourcedir.tar.gz\u001b[0m\n",
      "\u001b[31mSM_TRAINING_ENV={\"additional_framework_parameters\":{\"sagemaker_parameter_server_enabled\":true},\"channel_input_dirs\":{\"train\":\"/opt/ml/input/data/train\",\"train_annotation\":\"/opt/ml/input/data/train_annotation\",\"validation\":\"/opt/ml/input/data/validation\",\"validation_annotation\":\"/opt/ml/input/data/validation_annotation\"},\"current_host\":\"algo-1\",\"framework_module\":\"sagemaker_tensorflow_container.training:main\",\"hosts\":[\"algo-1\",\"algo-2\"],\"hyperparameters\":{\"batch_size\":128,\"epochs\":30,\"learning_rate\":0.001,\"model_dir\":\"/opt/ml/model\",\"verbose\":0},\"input_config_dir\":\"/opt/ml/input/config\",\"input_data_config\":{\"train\":{\"ContentType\":\"image/png\",\"RecordWrapperType\":\"None\",\"S3DistributionType\":\"FullyReplicated\",\"TrainingInputMode\":\"File\"},\"train_annotation\":{\"ContentType\":\"application/json\",\"RecordWrapperType\":\"None\",\"S3DistributionType\":\"FullyReplicated\",\"TrainingInputMode\":\"File\"},\"validation\":{\"ContentType\":\"image/png\",\"RecordWrapperType\":\"None\",\"S3DistributionType\":\"FullyReplicated\",\"TrainingInputMode\":\"File\"},\"validation_annotation\":{\"ContentType\":\"application/json\",\"RecordWrapperType\":\"None\",\"S3DistributionType\":\"FullyReplicated\",\"TrainingInputMode\":\"File\"}},\"input_dir\":\"/opt/ml/input\",\"is_master\":true,\"job_name\":\"sagemaker-tensorflow-scriptmode-2019-06-01-06-48-35-871\",\"log_level\":20,\"master_hostname\":\"algo-1\",\"model_dir\":\"/opt/ml/model\",\"module_dir\":\"s3://sagemaker-us-east-1-308961792850/sagemaker-tensorflow-scriptmode-2019-06-01-06-48-35-871/source/sourcedir.tar.gz\",\"module_name\":\"cnn_ocr\",\"network_interface_name\":\"ethwe\",\"num_cpus\":8,\"num_gpus\":1,\"output_data_dir\":\"/opt/ml/output/data\",\"output_dir\":\"/opt/ml/output\",\"output_intermediate_dir\":\"/opt/ml/output/intermediate\",\"resource_config\":{\"current_host\":\"algo-1\",\"hosts\":[\"algo-1\",\"algo-2\"],\"network_interface_name\":\"ethwe\"},\"user_entry_point\":\"cnn_ocr.py\"}\u001b[0m\n",
      "\u001b[31mSM_USER_ARGS=[\"--batch_size\",\"128\",\"--epochs\",\"30\",\"--learning_rate\",\"0.001\",\"--model_dir\",\"/opt/ml/model\",\"--verbose\",\"0\"]\u001b[0m\n",
      "\u001b[31mSM_OUTPUT_INTERMEDIATE_DIR=/opt/ml/output/intermediate\u001b[0m\n",
      "\u001b[31mSM_CHANNEL_VALIDATION_ANNOTATION=/opt/ml/input/data/validation_annotation\u001b[0m\n",
      "\u001b[31mSM_CHANNEL_TRAIN_ANNOTATION=/opt/ml/input/data/train_annotation\u001b[0m\n",
      "\u001b[31mSM_CHANNEL_VALIDATION=/opt/ml/input/data/validation\u001b[0m\n",
      "\u001b[31mSM_CHANNEL_TRAIN=/opt/ml/input/data/train\u001b[0m\n",
      "\u001b[31mSM_HP_BATCH_SIZE=128\u001b[0m\n",
      "\u001b[31mSM_HP_MODEL_DIR=/opt/ml/model\u001b[0m\n",
      "\u001b[31mSM_HP_EPOCHS=30\u001b[0m\n",
      "\u001b[31mSM_HP_LEARNING_RATE=0.001\u001b[0m\n",
      "\u001b[31mSM_HP_VERBOSE=0\u001b[0m\n",
      "\u001b[31mTF_CONFIG={\"cluster\": {\"master\": [\"algo-1:2222\"], \"ps\": [\"algo-1:2223\", \"algo-2:2223\"], \"worker\": [\"algo-2:2222\"]}, \"environment\": \"cloud\", \"task\": {\"index\": 0, \"type\": \"master\"}}\u001b[0m\n",
      "\u001b[31mPYTHONPATH=/opt/ml/code:/usr/local/bin:/usr/lib/python36.zip:/usr/lib/python3.6:/usr/lib/python3.6/lib-dynload:/usr/local/lib/python3.6/dist-packages:/usr/lib/python3/dist-packages\n",
      "\u001b[0m\n",
      "\u001b[31mInvoking script with the following command:\n",
      "\u001b[0m\n",
      "\u001b[31m/usr/bin/python cnn_ocr.py --batch_size 128 --epochs 30 --learning_rate 0.001 --model_dir /opt/ml/model --verbose 0\n",
      "\n",
      "\u001b[0m\n",
      "\u001b[31mUsing TensorFlow backend.\u001b[0m\n",
      "\u001b[32margs test: learning_rate = 0.001, batch_size = 128, epochs = 30\u001b[0m\n",
      "\u001b[31margs test: learning_rate = 0.001, batch_size = 128, epochs = 30\u001b[0m\n",
      "\u001b[31m/gpu:0\u001b[0m\n",
      "\u001b[32m/gpu:0\u001b[0m\n",
      "\n",
      "2019-06-01 06:59:09 Uploading - Uploading generated training model\u001b[32m#015 1/16 [>.............................] - ETA: 0s#010#010#010#010#010#010#010#010#010#010#010#010#010#010#010#010#010#010#010#010#010#010#010#010#010#010#010#010#010#010#010#010#010#010#010#010#010#010#010#010#010#010#010#010#010#010#010#010#015 4/16 [======>.......................] - ETA: 0s#010#010#010#010#010#010#010#010#010#010#010#010#010#010#010#010#010#010#010#010#010#010#010#010#010#010#010#010#010#010#010#010#010#010#010#010#010#010#010#010#010#010#010#010#010#010#010#010#015 7/16 [============>.................] - ETA: 0s#010#010#010#010#010#010#010#010#010#010#010#010#010#010#010#010#010#010#010#010#010#010#010#010#010#010#010#010#010#010#010#010#010#010#010#010#010#010#010#010#010#010#010#010#010#010#010#010#01510/16 [=================>............] - ETA: 0s#010#010#010#010#010#010#010#010#010#010#010#010#010#010#010#010#010#010#010#010#010#010#010#010#010#010#010#010#010#010#010#010#010#010#010#010#010#010#010#010#010#010#010#010#010#010#010#010#01513/16 [=======================>......] - ETA: 0s#010#010#010#010#010#010#010#010#010#010#010#010#010#010#010#010#010#010#010#010#010#010#010#010#010#010#010#010#010#010#010#010#010#010#010#010#010#010#010#010#010#010#010#010#010#010#010#010#01516/16 [==============================] - 0s 19ms/step\u001b[0m\n",
      "\u001b[32mscores:  [4.159892677307129, 0.27803776156902316, 0.5531028594970703, 1.4883675231933593, 0.2550885820388794, 0.36287398886680605, 0.7113030874729156, 0.5111189372539521, 0.8940000004768371, 0.8290000009536743, 0.5865, 0.9255000009536744, 0.8960000009536743, 0.7934999990463257, 0.8475000009536743]\u001b[0m\n",
      "\u001b[31m#015 1/16 [>.............................] - ETA: 0s#010#010#010#010#010#010#010#010#010#010#010#010#010#010#010#010#010#010#010#010#010#010#010#010#010#010#010#010#010#010#010#010#010#010#010#010#010#010#010#010#010#010#010#010#010#010#010#010#015 4/16 [======>.......................] - ETA: 0s#010#010#010#010#010#010#010#010#010#010#010#010#010#010#010#010#010#010#010#010#010#010#010#010#010#010#010#010#010#010#010#010#010#010#010#010#010#010#010#010#010#010#010#010#010#010#010#010#015 7/16 [============>.................] - ETA: 0s#010#010#010#010#010#010#010#010#010#010#010#010#010#010#010#010#010#010#010#010#010#010#010#010#010#010#010#010#010#010#010#010#010#010#010#010#010#010#010#010#010#010#010#010#010#010#010#010#01510/16 [=================>............] - ETA: 0s#010#010#010#010#010#010#010#010#010#010#010#010#010#010#010#010#010#010#010#010#010#010#010#010#010#010#010#010#010#010#010#010#010#010#010#010#010#010#010#010#010#010#010#010#010#010#010#010#01513/16 [=======================>......] - ETA: 0s#010#010#010#010#010#010#010#010#010#010#010#010#010#010#010#010#010#010#010#010#010#010#010#010#010#010#010#010#010#010#010#010#010#010#010#010#010#010#010#010#010#010#010#010#010#010#010#010#01516/16 [==============================] - 0s 20ms/step\u001b[0m\n",
      "\u001b[31mscores:  [4.12105241394043, 0.28561119985580447, 0.5140789728164673, 1.3911947040557862, 0.25451892948150634, 0.3833798484802246, 0.744988392829895, 0.5472803492546081, 0.9109999995231628, 0.8490000009536743, 0.6070000009536743, 0.9210000009536743, 0.8929999990463257, 0.7919999995231628, 0.8315]\u001b[0m\n",
      "\u001b[32mWARNING:tensorflow:Export includes no default signature!\u001b[0m\n",
      "\u001b[31mWARNING:tensorflow:Export includes no default signature!\u001b[0m\n",
      "\u001b[32mWARNING:tensorflow:Export includes no default signature!\u001b[0m\n",
      "\u001b[31mWARNING:tensorflow:Export includes no default signature!\u001b[0m\n",
      "\u001b[32m2019-06-01 06:59:05,549 sagemaker_tensorflow_container.training INFO     master algo-1 is down, stopping parameter server\u001b[0m\n",
      "\u001b[32m2019-06-01 06:59:05,549 sagemaker-containers INFO     Reporting training SUCCESS\u001b[0m\n",
      "\u001b[31m2019-06-01 06:59:07,436 sagemaker-containers INFO     Reporting training SUCCESS\u001b[0m\n",
      "\n",
      "2019-06-01 06:59:25 Completed - Training job completed\n",
      "Billable seconds: 1008\n",
      "CPU times: user 1.21 s, sys: 60.4 ms, total: 1.27 s\n",
      "Wall time: 11min 19s\n"
     ]
    }
   ],
   "source": [
    "%%time\n",
    "ocr_estimator.fit(data_channels, logs=True)"
   ]
  },
  {
   "cell_type": "markdown",
   "metadata": {},
   "source": [
    "* Check the model name that training job just created\n",
    "* Check the model file that training job just created"
   ]
  },
  {
   "cell_type": "code",
   "execution_count": 64,
   "metadata": {},
   "outputs": [
    {
     "name": "stdout",
     "output_type": "stream",
     "text": [
      "s3://sagemaker-us-east-1-308961792850/\n",
      "s3://sagemaker-us-east-1-308961792850/sagemaker-tensorflow-scriptmode-2019-06-01-06-48-35-871/output/model.tar.gz\n",
      "2019-06-01 06:59:20   75742254 model.tar.gz\n"
     ]
    }
   ],
   "source": [
    "print(ocr_estimator.output_path)\n",
    "print(ocr_estimator.model_data)\n",
    "\n",
    "!aws s3 ls {ocr_estimator.model_data}"
   ]
  },
  {
   "cell_type": "code",
   "execution_count": null,
   "metadata": {},
   "outputs": [],
   "source": []
  },
  {
   "cell_type": "markdown",
   "metadata": {},
   "source": [
    "## Test data"
   ]
  },
  {
   "cell_type": "markdown",
   "metadata": {},
   "source": [
    "* Prepare character list and test images"
   ]
  },
  {
   "cell_type": "code",
   "execution_count": 65,
   "metadata": {},
   "outputs": [],
   "source": [
    "import numpy as np"
   ]
  },
  {
   "cell_type": "code",
   "execution_count": 66,
   "metadata": {},
   "outputs": [],
   "source": [
    "NUMS =['1', '2', '3', '4', '5', '6', '7', '8', '9', '0']\n",
    "CHARS=['가', '나', '다', '라', '마', '거', '너', '더', '러', '머', '고', '노', '도', '로', '모', '구', '누', '두', '루', '무', \n",
    "       '버', '서', '어', '저', '처', '커', '터', '퍼', '보', '소', '오', '조', '초', '코', '토', '포', '부', '수', '우', '주', '추', '쿠', '투', '푸', '후', \n",
    "       '그', '느', '드', '르', '므', '브', '스', '으', '즈', '츠', '크', '트', '프', '흐',\n",
    "       '바', '사', '아', '자', '차', '카', '타', '파', '하', '허', '호']\n",
    "SPACE=[' ']\n",
    "JOIN =NUMS + CHARS + SPACE\n",
    "n_chr = len(JOIN)"
   ]
  },
  {
   "cell_type": "code",
   "execution_count": 67,
   "metadata": {},
   "outputs": [],
   "source": [
    "test_imgs = os.listdir('tf/tf-validation')"
   ]
  },
  {
   "cell_type": "markdown",
   "metadata": {},
   "source": [
    "## Test the trainned model in local"
   ]
  },
  {
   "cell_type": "markdown",
   "metadata": {},
   "source": [
    "* Copy trainned model from S3 to ./model folder"
   ]
  },
  {
   "cell_type": "code",
   "execution_count": 68,
   "metadata": {},
   "outputs": [
    {
     "name": "stdout",
     "output_type": "stream",
     "text": []
    },
    {
     "name": "stdout",
     "output_type": "stream",
     "text": []
    },
    {
     "name": "stdout",
     "output_type": "stream",
     "text": []
    },
    {
     "name": "stdout",
     "output_type": "stream",
     "text": []
    },
    {
     "name": "stdout",
     "output_type": "stream",
     "text": []
    },
    {
     "name": "stdout",
     "output_type": "stream",
     "text": []
    },
    {
     "name": "stdout",
     "output_type": "stream",
     "text": []
    },
    {
     "name": "stdout",
     "output_type": "stream",
     "text": []
    },
    {
     "name": "stdout",
     "output_type": "stream",
     "text": [
      "download: s3://sagemaker-us-east-1-308961792850/sagemaker-tensorflow-scriptmode-2019-06-01-06-48-35-871/output/model.tar.gz to model/model.tar.gz\n"
     ]
    }
   ],
   "source": [
    "#!rm -Rf model\n",
    "!aws s3 cp {ocr_estimator.model_data} ./model/model.tar.gz --region {sess.boto_region_name}"
   ]
  },
  {
   "cell_type": "markdown",
   "metadata": {},
   "source": [
    "* Extract the model file and see the components"
   ]
  },
  {
   "cell_type": "code",
   "execution_count": 69,
   "metadata": {},
   "outputs": [
    {
     "name": "stdout",
     "output_type": "stream",
     "text": [
      "weights.ckpt.index\n",
      "weights.ckpt.data-00000-of-00001\n",
      "checkpoint\n",
      "1559372344/\n",
      "1559372344/assets/\n",
      "1559372344/assets/saved_model.json\n",
      "1559372344/variables/\n",
      "1559372344/variables/variables.index\n",
      "1559372344/variables/variables.data-00000-of-00001\n",
      "1559372344/variables/checkpoint\n",
      "1559372344/saved_model.pb\n",
      "weights.ckpt.data-00000-of-00001\n",
      "checkpoint\n",
      "1559372346/\n",
      "1559372346/saved_model.pb\n",
      "1559372346/variables/\n",
      "1559372346/variables/variables.data-00000-of-00001\n",
      "1559372346/variables/checkpoint\n",
      "1559372346/variables/variables.index\n",
      "1559372346/assets/\n",
      "1559372346/assets/saved_model.json\n",
      "weights.ckpt.index\n"
     ]
    }
   ],
   "source": [
    "!tar -xvzf ./model/model.tar.gz -C ./model"
   ]
  },
  {
   "cell_type": "markdown",
   "metadata": {},
   "source": [
    "* Define model architecture locally (same as Lab3)"
   ]
  },
  {
   "cell_type": "code",
   "execution_count": 70,
   "metadata": {},
   "outputs": [],
   "source": [
    "import matplotlib.pyplot as plt\n",
    "def model(input_shape):\n",
    "    # Define the input placeholder as a tensor with shape input_shape. Think of this as your input image!\n",
    "    X_input = tf.keras.Input(input_shape)\n",
    "\n",
    "    # Zero-Padding: pads the border of X_input with zeroes\n",
    "    X = tf.keras.layers.ZeroPadding2D((2, 2))(X_input)\n",
    "\n",
    "    # CONV0 -> BN -> RELU -> MAXPOOL applied to X\n",
    "    X = tf.keras.layers.Conv2D(48, (5, 5), strides = (1, 1), name = 'conv0')(X)\n",
    "    X = tf.keras.layers.BatchNormalization(axis = 3, name = 'bn0')(X)\n",
    "    X = tf.keras.layers.Activation('relu')(X)\n",
    "    X = tf.keras.layers.MaxPooling2D((2, 2), strides = (2, 2), name='max_pool0')(X)\n",
    "\n",
    "    # CONV1 -> BN -> RELU -> MAXPOOL applied to X\n",
    "    X = tf.keras.layers.Conv2D(64, (5, 5), strides = (1, 1), name = 'conv1')(X)\n",
    "    X = tf.keras.layers.BatchNormalization(axis = 3, name = 'bn1')(X)\n",
    "    X = tf.keras.layers.Activation('relu')(X)\n",
    "    X = tf.keras.layers.MaxPooling2D((1, 2), strides = (2, 2), name='max_pool1')(X)\n",
    "\n",
    "    # CONV2 -> BN -> RELU -> MAXPOOL applied to X\n",
    "    X = tf.keras.layers.Conv2D(64, (5, 5), strides = (1, 1), name = 'conv2')(X)\n",
    "    X = tf.keras.layers.BatchNormalization(axis = 3, name = 'bn2')(X)\n",
    "    X = tf.keras.layers.Activation('relu')(X)\n",
    "    X = tf.keras.layers.MaxPooling2D((2, 2), strides = (2, 2), name='max_pool2')(X)\n",
    "\n",
    "    # FLATTEN X (means convert it to a vector) + FULLYCONNECTED\n",
    "    X = tf.keras.layers.Flatten()(X)\n",
    "    #----------------------------------------------------------\n",
    "    d1 = tf.keras.layers.Dense(81, activation='softmax', name='d1')(X)\n",
    "    d2 = tf.keras.layers.Dense(81, activation='softmax', name='d2')(X)\n",
    "    d3 = tf.keras.layers.Dense(81, activation='softmax', name='d3')(X)\n",
    "    d4 = tf.keras.layers.Dense(81, activation='softmax', name='d4')(X)\n",
    "    d5 = tf.keras.layers.Dense(81, activation='softmax', name='d5')(X)\n",
    "    d6 = tf.keras.layers.Dense(81, activation='softmax', name='d6')(X)\n",
    "    d7 = tf.keras.layers.Dense(81, activation='softmax', name='d7')(X)\n",
    "    \n",
    "    model = tf.keras.Model(inputs = X_input, \n",
    "                  outputs = [d1,d2,d3,d4,d5,d6,d7],\n",
    "                  name='CNN_ANPR')\n",
    "\n",
    "    return model"
   ]
  },
  {
   "cell_type": "markdown",
   "metadata": {},
   "source": [
    "* Read and retore model from downloaded checkpoint"
   ]
  },
  {
   "cell_type": "code",
   "execution_count": 71,
   "metadata": {},
   "outputs": [
    {
     "name": "stdout",
     "output_type": "stream",
     "text": [
      "WARNING:tensorflow:From /home/ec2-user/anaconda3/envs/tensorflow_p36/lib/python3.6/site-packages/tensorflow/python/ops/resource_variable_ops.py:642: colocate_with (from tensorflow.python.framework.ops) is deprecated and will be removed in a future version.\n",
      "Instructions for updating:\n",
      "Colocations handled automatically by placer.\n"
     ]
    },
    {
     "name": "stderr",
     "output_type": "stream",
     "text": [
      "WARNING:tensorflow:From /home/ec2-user/anaconda3/envs/tensorflow_p36/lib/python3.6/site-packages/tensorflow/python/ops/resource_variable_ops.py:642: colocate_with (from tensorflow.python.framework.ops) is deprecated and will be removed in a future version.\n",
      "Instructions for updating:\n",
      "Colocations handled automatically by placer.\n"
     ]
    },
    {
     "name": "stdout",
     "output_type": "stream",
     "text": [
      "WARNING:tensorflow:Saver is deprecated, please switch to tf.train.Checkpoint or tf.keras.Model.save_weights for training checkpoints. When executing eagerly variables do not necessarily have unique names, and so the variable.name-based lookups Saver performs are error-prone.\n"
     ]
    },
    {
     "name": "stderr",
     "output_type": "stream",
     "text": [
      "WARNING:tensorflow:Saver is deprecated, please switch to tf.train.Checkpoint or tf.keras.Model.save_weights for training checkpoints. When executing eagerly variables do not necessarily have unique names, and so the variable.name-based lookups Saver performs are error-prone.\n"
     ]
    },
    {
     "name": "stdout",
     "output_type": "stream",
     "text": [
      "WARNING:tensorflow:From /home/ec2-user/anaconda3/envs/tensorflow_p36/lib/python3.6/site-packages/tensorflow/python/training/saver.py:1272: checkpoint_exists (from tensorflow.python.training.checkpoint_management) is deprecated and will be removed in a future version.\n",
      "Instructions for updating:\n",
      "Use standard file APIs to check for files with this prefix.\n"
     ]
    },
    {
     "name": "stderr",
     "output_type": "stream",
     "text": [
      "WARNING:tensorflow:From /home/ec2-user/anaconda3/envs/tensorflow_p36/lib/python3.6/site-packages/tensorflow/python/training/saver.py:1272: checkpoint_exists (from tensorflow.python.training.checkpoint_management) is deprecated and will be removed in a future version.\n",
      "Instructions for updating:\n",
      "Use standard file APIs to check for files with this prefix.\n"
     ]
    },
    {
     "name": "stdout",
     "output_type": "stream",
     "text": [
      "INFO:tensorflow:Restoring parameters from model/weights.ckpt\n"
     ]
    },
    {
     "name": "stderr",
     "output_type": "stream",
     "text": [
      "INFO:tensorflow:Restoring parameters from model/weights.ckpt\n"
     ]
    }
   ],
   "source": [
    "tf.keras.backend.clear_session()\n",
    "device = '/cpu:0' \n",
    "\n",
    "with tf.device(device):    \n",
    "    local_model = model((128,64,1))\n",
    "    saver = tfe.Saver(local_model.variables)\n",
    "    saver.restore('model/weights.ckpt')"
   ]
  },
  {
   "cell_type": "code",
   "execution_count": 72,
   "metadata": {},
   "outputs": [
    {
     "data": {
      "image/png": "[encoded data removed]",
      "text/plain": [
       "<Figure size 432x288 with 1 Axes>"
      ]
     },
     "metadata": {},
     "output_type": "display_data"
    },
    {
     "name": "stdout",
     "output_type": "stream",
     "text": [
      "['8', '4', '러', '4', '7', '1', '4']\n"
     ]
    },
    {
     "data": {
      "image/png": "[encoded data removed]",
      "text/plain": [
       "<Figure size 432x288 with 1 Axes>"
      ]
     },
     "metadata": {},
     "output_type": "display_data"
    },
    {
     "name": "stdout",
     "output_type": "stream",
     "text": [
      "['3', '0', '호', '7', '3', '9', '3']\n"
     ]
    },
    {
     "data": {
      "image/png": "[encoded data removed]",
      "text/plain": [
       "<Figure size 432x288 with 1 Axes>"
      ]
     },
     "metadata": {},
     "output_type": "display_data"
    },
    {
     "name": "stdout",
     "output_type": "stream",
     "text": [
      "['2', '3', '저', '9', '7', '2', '6']\n"
     ]
    },
    {
     "data": {
      "image/png": "[encoded data removed]",
      "text/plain": [
       "<Figure size 432x288 with 1 Axes>"
      ]
     },
     "metadata": {},
     "output_type": "display_data"
    },
    {
     "name": "stdout",
     "output_type": "stream",
     "text": [
      "['0', '5', '느', '4', '9', '4', '6']\n"
     ]
    },
    {
     "data": {
      "image/png": "[encoded data removed]",
      "text/plain": [
       "<Figure size 432x288 with 1 Axes>"
      ]
     },
     "metadata": {},
     "output_type": "display_data"
    },
    {
     "name": "stdout",
     "output_type": "stream",
     "text": [
      "['2', '6', '파', '3', '6', '0', '0']\n"
     ]
    },
    {
     "data": {
      "image/png": "[encoded data removed]",
      "text/plain": [
       "<Figure size 432x288 with 1 Axes>"
      ]
     },
     "metadata": {},
     "output_type": "display_data"
    },
    {
     "name": "stdout",
     "output_type": "stream",
     "text": [
      "['7', '7', '도', '6', '1', '4', '4']\n"
     ]
    },
    {
     "data": {
      "image/png": "[encoded data removed]",
      "text/plain": [
       "<Figure size 432x288 with 1 Axes>"
      ]
     },
     "metadata": {},
     "output_type": "display_data"
    },
    {
     "name": "stdout",
     "output_type": "stream",
     "text": [
      "['8', '6', '호', '7', '7', '2', '5']\n"
     ]
    },
    {
     "data": {
      "image/png": "[encoded data removed]",
      "text/plain": [
       "<Figure size 432x288 with 1 Axes>"
      ]
     },
     "metadata": {},
     "output_type": "display_data"
    },
    {
     "name": "stdout",
     "output_type": "stream",
     "text": [
      "['2', '4', '호', '6', '3', '1', '0']\n"
     ]
    },
    {
     "data": {
      "image/png": "[encoded data removed]",
      "text/plain": [
       "<Figure size 432x288 with 1 Axes>"
      ]
     },
     "metadata": {},
     "output_type": "display_data"
    },
    {
     "name": "stdout",
     "output_type": "stream",
     "text": [
      "['1', '6', '푸', '4', '0', '0', '8']\n"
     ]
    },
    {
     "data": {
      "image/png": "[encoded data removed]",
      "text/plain": [
       "<Figure size 432x288 with 1 Axes>"
      ]
     },
     "metadata": {},
     "output_type": "display_data"
    },
    {
     "name": "stdout",
     "output_type": "stream",
     "text": [
      "['1', '1', '르', '8', '7', '7', '2']\n"
     ]
    }
   ],
   "source": [
    "for i in range(10):\n",
    "    val_img = Image.open('tf/tf-validation/' + test_imgs[i])\n",
    "    val_img_np = np.array(val_img.resize((128,64)))\n",
    "    prediction = local_model.predict(val_img_np.reshape([1,128,64,1])/255.)\n",
    "    plt.imshow(val_img)\n",
    "    plt.show()\n",
    "    digits = [JOIN[np.argmax(prediction[0][0])], \n",
    "              JOIN[np.argmax(prediction[1][0])], \n",
    "              JOIN[np.argmax(prediction[2][0])], \n",
    "              JOIN[np.argmax(prediction[3][0])], \n",
    "              JOIN[np.argmax(prediction[4][0])], \n",
    "              JOIN[np.argmax(prediction[5][0])], \n",
    "              JOIN[np.argmax(prediction[6][0])]]\n",
    "    print(digits)"
   ]
  },
  {
   "cell_type": "markdown",
   "metadata": {},
   "source": [
    "* You may utilize above code to build your own inference environment\n",
    "* You can find that the accuracy of our model is increased\n",
    "* We may further refine our model in the following ways:\n",
    "    * Adding more training images and more epochs\n",
    "    * Adding real world license plate images\n",
    "    * Changing an architecture to another structure (ex: CNN + LSTM)\n",
    "    * Combining Object detection and this OCR model into one CNN architecture (Usually, end-to-end approach needs more training data)"
   ]
  },
  {
   "cell_type": "markdown",
   "metadata": {},
   "source": [
    "## Deploy the model and inference Test"
   ]
  },
  {
   "cell_type": "markdown",
   "metadata": {},
   "source": [
    "* Now, let's deploy our model into SageMaker's inference hosting environment "
   ]
  },
  {
   "cell_type": "code",
   "execution_count": 74,
   "metadata": {},
   "outputs": [
    {
     "name": "stderr",
     "output_type": "stream",
     "text": [
      "INFO:sagemaker:Creating model with name: sagemaker-tensorflow-scriptmode-2019-06-01-06-48-35-871\n",
      "INFO:sagemaker:Creating endpoint with name sagemaker-tensorflow-scriptmode-2019-06-01-06-48-35-871\n"
     ]
    },
    {
     "name": "stdout",
     "output_type": "stream",
     "text": [
      "----------------------------------------------------------------------------------------!"
     ]
    }
   ],
   "source": [
    "predictor = ocr_estimator.deploy(initial_instance_count=1,\n",
    "                                 instance_type='ml.m4.xlarge',\n",
    "                                 accelerator_type='ml.eia1.medium')"
   ]
  },
  {
   "cell_type": "markdown",
   "metadata": {},
   "source": [
    "* Check the result of deploy"
   ]
  },
  {
   "cell_type": "code",
   "execution_count": 75,
   "metadata": {},
   "outputs": [
    {
     "data": {
      "text/plain": [
       "'sagemaker-tensorflow-scriptmode-2019-06-01-06-48-35-871'"
      ]
     },
     "execution_count": 75,
     "metadata": {},
     "output_type": "execute_result"
    }
   ],
   "source": [
    "predictor.endpoint"
   ]
  },
  {
   "cell_type": "markdown",
   "metadata": {},
   "source": [
    "* Check the prediction of 10 sample pairs of images"
   ]
  },
  {
   "cell_type": "code",
   "execution_count": 76,
   "metadata": {},
   "outputs": [
    {
     "data": {
      "image/png": "[encoded data removed]",
      "text/plain": [
       "<Figure size 432x288 with 1 Axes>"
      ]
     },
     "metadata": {},
     "output_type": "display_data"
    },
    {
     "name": "stdout",
     "output_type": "stream",
     "text": [
      "0\n",
      "['8', '4', '러', '4', '7', '1', '4']\n"
     ]
    },
    {
     "data": {
      "image/png": "[encoded data removed]",
      "text/plain": [
       "<Figure size 432x288 with 1 Axes>"
      ]
     },
     "metadata": {},
     "output_type": "display_data"
    },
    {
     "name": "stdout",
     "output_type": "stream",
     "text": [
      "1\n",
      "['3', '0', '호', '7', '3', '9', '3']\n"
     ]
    },
    {
     "data": {
      "image/png": "[encoded data removed]",
      "text/plain": [
       "<Figure size 432x288 with 1 Axes>"
      ]
     },
     "metadata": {},
     "output_type": "display_data"
    },
    {
     "name": "stdout",
     "output_type": "stream",
     "text": [
      "2\n",
      "['2', '3', '저', '9', '7', '2', '6']\n"
     ]
    },
    {
     "data": {
      "image/png": "[encoded data removed]",
      "text/plain": [
       "<Figure size 432x288 with 1 Axes>"
      ]
     },
     "metadata": {},
     "output_type": "display_data"
    },
    {
     "name": "stdout",
     "output_type": "stream",
     "text": [
      "3\n",
      "['0', '5', '느', '4', '9', '4', '6']\n"
     ]
    },
    {
     "data": {
      "image/png": "[encoded data removed]",
      "text/plain": [
       "<Figure size 432x288 with 1 Axes>"
      ]
     },
     "metadata": {},
     "output_type": "display_data"
    },
    {
     "name": "stdout",
     "output_type": "stream",
     "text": [
      "4\n",
      "['2', '6', '파', '3', '6', '0', '0']\n"
     ]
    },
    {
     "data": {
      "image/png": "[encoded data removed]",
      "text/plain": [
       "<Figure size 432x288 with 1 Axes>"
      ]
     },
     "metadata": {},
     "output_type": "display_data"
    },
    {
     "name": "stdout",
     "output_type": "stream",
     "text": [
      "5\n",
      "['7', '7', '도', '6', '1', '4', '4']\n"
     ]
    },
    {
     "data": {
      "image/png": "[encoded data removed]",
      "text/plain": [
       "<Figure size 432x288 with 1 Axes>"
      ]
     },
     "metadata": {},
     "output_type": "display_data"
    },
    {
     "name": "stdout",
     "output_type": "stream",
     "text": [
      "6\n",
      "['8', '6', '호', '7', '7', '2', '5']\n"
     ]
    },
    {
     "data": {
      "image/png": "[encoded data removed]",
      "text/plain": [
       "<Figure size 432x288 with 1 Axes>"
      ]
     },
     "metadata": {},
     "output_type": "display_data"
    },
    {
     "name": "stdout",
     "output_type": "stream",
     "text": [
      "7\n",
      "['2', '4', '호', '6', '3', '1', '0']\n"
     ]
    },
    {
     "data": {
      "image/png": "[encoded data removed]",
      "text/plain": [
       "<Figure size 432x288 with 1 Axes>"
      ]
     },
     "metadata": {},
     "output_type": "display_data"
    },
    {
     "name": "stdout",
     "output_type": "stream",
     "text": [
      "8\n",
      "['1', '6', '푸', '4', '0', '0', '8']\n"
     ]
    },
    {
     "data": {
      "image/png": "[encoded data removed]",
      "text/plain": [
       "<Figure size 432x288 with 1 Axes>"
      ]
     },
     "metadata": {},
     "output_type": "display_data"
    },
    {
     "name": "stdout",
     "output_type": "stream",
     "text": [
      "9\n",
      "['1', '1', '르', '8', '7', '7', '2']\n"
     ]
    }
   ],
   "source": [
    "for i in range(10):\n",
    "    val_img = Image.open('tf/tf-validation/' + test_imgs[i])\n",
    "    val_img_np = np.array(val_img.resize((128,64)))\n",
    "    input = {\n",
    "      'instances': val_img_np.reshape([1,128,64,1])/255.\n",
    "    }\n",
    "    prediction = predictor.predict(input)\n",
    "    plt.imshow(val_img)\n",
    "    plt.show()\n",
    "    print(i)\n",
    "    digits = [JOIN[np.argmax(prediction['predictions'][0]['d1'])], \n",
    "              JOIN[np.argmax(prediction['predictions'][0]['d2'])], \n",
    "              JOIN[np.argmax(prediction['predictions'][0]['d3'])], \n",
    "              JOIN[np.argmax(prediction['predictions'][0]['d4'])], \n",
    "              JOIN[np.argmax(prediction['predictions'][0]['d5'])],  \n",
    "              JOIN[np.argmax(prediction['predictions'][0]['d6'])], \n",
    "              JOIN[np.argmax(prediction['predictions'][0]['d7'])]]\n",
    "    print(digits)"
   ]
  },
  {
   "cell_type": "markdown",
   "metadata": {},
   "source": [
    "## Endpoint API test"
   ]
  },
  {
   "cell_type": "markdown",
   "metadata": {},
   "source": [
    "* You may invoke SageMaker endpoint from business application as below:"
   ]
  },
  {
   "cell_type": "code",
   "execution_count": 77,
   "metadata": {},
   "outputs": [],
   "source": [
    "import boto3\n",
    "from sagemaker.predictor import json_serializer, json_deserializer, RealTimePredictor\n",
    "from sagemaker.content_types import CONTENT_TYPE_CSV, CONTENT_TYPE_JSON\n",
    "runtime = boto3.Session().client('runtime.sagemaker')\n",
    "tf_endpoint = predictor.endpoint"
   ]
  },
  {
   "cell_type": "code",
   "execution_count": 78,
   "metadata": {},
   "outputs": [
    {
     "name": "stdout",
     "output_type": "stream",
     "text": [
      "11르8772\n"
     ]
    }
   ],
   "source": [
    "api_predictor = RealTimePredictor(endpoint=tf_endpoint, sagemaker_session=sess, serializer=json_serializer,\n",
    "                                content_type=CONTENT_TYPE_JSON, accept=CONTENT_TYPE_CSV)\n",
    "api_response = json.loads(api_predictor.predict(input))\n",
    "print(JOIN[np.argmax(api_response['predictions'][0]['d1'])] +\n",
    "      JOIN[np.argmax(api_response['predictions'][0]['d2'])] +\n",
    "      JOIN[np.argmax(api_response['predictions'][0]['d3'])] +\n",
    "      JOIN[np.argmax(api_response['predictions'][0]['d4'])] +\n",
    "      JOIN[np.argmax(api_response['predictions'][0]['d5'])] +\n",
    "      JOIN[np.argmax(api_response['predictions'][0]['d6'])] +\n",
    "      JOIN[np.argmax(api_response['predictions'][0]['d7'])] )"
   ]
  },
  {
   "cell_type": "code",
   "execution_count": null,
   "metadata": {},
   "outputs": [],
   "source": []
  },
  {
   "cell_type": "markdown",
   "metadata": {},
   "source": [
    "## Delete Endpoint"
   ]
  },
  {
   "cell_type": "code",
   "execution_count": 103,
   "metadata": {},
   "outputs": [
    {
     "name": "stderr",
     "output_type": "stream",
     "text": [
      "INFO:sagemaker:Deleting endpoint with name: sagemaker-tensorflow-scriptmode-2019-03-09-00-23-00-877\n"
     ]
    }
   ],
   "source": [
    "sagemaker.Session().delete_endpoint(predictor.endpoint)"
   ]
  },
  {
   "cell_type": "markdown",
   "metadata": {},
   "source": [
    "## Next step\n",
    "**Delete resources**(Any endpoints, Notebook instance, and S3 bucket)"
   ]
  }
 ],
 "metadata": {
  "kernelspec": {
   "display_name": "conda_tensorflow_p36",
   "language": "python",
   "name": "conda_tensorflow_p36"
  },
  "language_info": {
   "codemirror_mode": {
    "name": "ipython",
    "version": 3
   },
   "file_extension": ".py",
   "mimetype": "text/x-python",
   "name": "python",
   "nbconvert_exporter": "python",
   "pygments_lexer": "ipython3",
   "version": "3.6.5"
  }
 },
 "nbformat": 4,
 "nbformat_minor": 2
}
