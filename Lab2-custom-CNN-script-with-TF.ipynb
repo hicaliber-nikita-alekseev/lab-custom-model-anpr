{
 "cells": [
  {
   "cell_type": "markdown",
   "metadata": {},
   "source": [
    "# Lab2. Custom CNN script with Tensorflow and Keras"
   ]
  },
  {
   "cell_type": "markdown",
   "metadata": {},
   "source": [
    "In this lab, you will develop your own Tensorflow-based Keras CNN script to recognize characters from cropped license plate.  "
   ]
  },
  {
   "cell_type": "markdown",
   "metadata": {},
   "source": [
    "## Set up your local environment"
   ]
  },
  {
   "cell_type": "markdown",
   "metadata": {},
   "source": [
    "* **Plase note that the Tensorflow eager mode will be enabled by below code:**  \n",
    " tf.enable_eager_execution()"
   ]
  },
  {
   "cell_type": "code",
   "execution_count": 1,
   "metadata": {},
   "outputs": [
    {
     "name": "stderr",
     "output_type": "stream",
     "text": [
      "Using TensorFlow backend.\n"
     ]
    }
   ],
   "source": [
    "import numpy as np\n",
    "from keras import layers\n",
    "\n",
    "import os\n",
    "import argparse\n",
    "\n",
    "import json\n",
    "from PIL import Image\n",
    "import tensorflow as tf\n",
    "\n",
    "from tensorflow.contrib.eager.python import tfe\n",
    "\n",
    "tf.enable_eager_execution()"
   ]
  },
  {
   "cell_type": "markdown",
   "metadata": {},
   "source": [
    "* Load the number character definition list "
   ]
  },
  {
   "cell_type": "code",
   "execution_count": 2,
   "metadata": {},
   "outputs": [],
   "source": [
    "NUMS =['1', '2', '3', '4', '5', '6', '7', '8', '9', '0']\n",
    "CHARS=['A', 'B', 'C', 'D', 'E', 'F', 'G', 'H', 'I', 'J', 'K', 'L', 'M', 'N', 'O', 'P', 'Q', 'R', 'S', 'T', 'U', 'V', 'W', 'X', 'Y', 'Z']\n",
    "SPACE=[' ']\n",
    "JOIN =NUMS + CHARS + SPACE\n",
    "n_chr = len(JOIN)"
   ]
  },
  {
   "cell_type": "markdown",
   "metadata": {},
   "source": [
    "## Divide train and valdiation data from cropped images"
   ]
  },
  {
   "cell_type": "markdown",
   "metadata": {},
   "source": [
    "* We will use cropped-imgs and nums-tags which we generated at Lab0"
   ]
  },
  {
   "cell_type": "code",
   "execution_count": 3,
   "metadata": {},
   "outputs": [
    {
     "name": "stdout",
     "output_type": "stream",
     "text": [
      "There are 10,000 images have annotation files.\n",
      "There are 10,000 image files.\n"
     ]
    }
   ],
   "source": [
    "jsons = os.listdir('gen/nums-tags')\n",
    "print ('There are {:,} images have annotation files.'.format(len(jsons)))\n",
    "print ('There are {:,} image files.'.format(len(os.listdir('gen/cropped-imgs'))))"
   ]
  },
  {
   "cell_type": "markdown",
   "metadata": {},
   "source": [
    "* prepare folder to store divided train/validation data"
   ]
  },
  {
   "cell_type": "code",
   "execution_count": 4,
   "metadata": {},
   "outputs": [],
   "source": [
    "!rm -fR tf\n",
    "!mkdir tf tf/tf-train tf/tf-train_annotation tf/tf-validation tf/tf-validation_annotation"
   ]
  },
  {
   "cell_type": "markdown",
   "metadata": {},
   "source": [
    "* Define the number of train/valdiation images"
   ]
  },
  {
   "cell_type": "code",
   "execution_count": 5,
   "metadata": {},
   "outputs": [
    {
     "name": "stdout",
     "output_type": "stream",
     "text": [
      "8,000 images will be used for training, and 2,000 images will be used for validation.\n"
     ]
    }
   ],
   "source": [
    "n_samples = len(os.listdir('gen/cropped-imgs'))\n",
    "n_val = 5000 if n_samples > 25000 else round(n_samples * 0.2)\n",
    "n_train = n_samples - n_val\n",
    "print('{:,} images will be used for training, and {:,} images will be used for validation.'.format(n_train, n_val))"
   ]
  },
  {
   "cell_type": "markdown",
   "metadata": {},
   "source": [
    "* Copy images and annotation files to tf-train and tf-validation folders  "
   ]
  },
  {
   "cell_type": "code",
   "execution_count": 6,
   "metadata": {},
   "outputs": [],
   "source": [
    "import shutil\n",
    "\n",
    "train_jsons = jsons[:n_train]\n",
    "val_jsons = jsons[n_train:]\n",
    "\n",
    "#Moving training files to the training folders\n",
    "for i in train_jsons:\n",
    "    image_file = './gen/cropped-imgs/'+i.split('.')[0]+'.png'\n",
    "    shutil.copy(image_file, './tf/tf-train/')\n",
    "    shutil.copy('./gen/nums-tags/'+i, './tf/tf-train_annotation/')\n",
    "\n",
    "#Moving validation files to the validation folders\n",
    "for i in val_jsons:\n",
    "    image_file = './gen/cropped-imgs/'+i.split('.')[0]+'.png'\n",
    "    shutil.copy(image_file, './tf/tf-validation/')\n",
    "    shutil.copy('./gen/nums-tags/'+i, './tf/tf-validation_annotation/')"
   ]
  },
  {
   "cell_type": "markdown",
   "metadata": {},
   "source": [
    "* check the move result"
   ]
  },
  {
   "cell_type": "code",
   "execution_count": 7,
   "metadata": {},
   "outputs": [
    {
     "name": "stdout",
     "output_type": "stream",
     "text": [
      "there are 10,000 files in gen/cropped-imgs folder.\n",
      "there are 10,000 files in gen/nums-tags folder.\n",
      "there are 8,000 files in tf/tf-train folder.\n",
      "there are 8,000 files in tf/tf-train_annotation folder.\n",
      "there are 2,000 files in tf/tf-validation folder.\n",
      "there are 2,000 files in tf/tf-validation_annotation folder.\n"
     ]
    }
   ],
   "source": [
    "print('there are {:,} files in gen/cropped-imgs folder.'.format(len(os.listdir('gen/cropped-imgs'))))\n",
    "print('there are {:,} files in gen/nums-tags folder.'.format(len(os.listdir('gen/nums-tags'))))\n",
    "print('there are {:,} files in tf/tf-train folder.'.format(len(os.listdir('tf/tf-train'))))\n",
    "print('there are {:,} files in tf/tf-train_annotation folder.'.format(len(os.listdir('tf/tf-train_annotation'))))\n",
    "print('there are {:,} files in tf/tf-validation folder.'.format(len(os.listdir('tf/tf-validation'))))\n",
    "print('there are {:,} files in tf/tf-validation_annotation folder.'.format(len(os.listdir('tf/tf-validation_annotation'))))"
   ]
  },
  {
   "cell_type": "markdown",
   "metadata": {},
   "source": [
    "## Load data(images/annotations) for local training"
   ]
  },
  {
   "cell_type": "markdown",
   "metadata": {},
   "source": [
    "* Define a function to read the pair of cropped image and annotation\n",
    "* Image will be resized to 128 x 64\n",
    "* Annotation t_annotations and v_annotations are lists of 7 np array representing digit of each 7 positions"
   ]
  },
  {
   "cell_type": "code",
   "execution_count": 8,
   "metadata": {},
   "outputs": [],
   "source": [
    "def get_data_pair(train_dir, annotation_dir):\n",
    "    t_jsns = os.listdir(annotation_dir)\n",
    "    flg_first = True\n",
    "    for i in t_jsns:\n",
    "        ext = i.split('.')[1]\n",
    "        if ext == 'json':\n",
    "            with open(annotation_dir + '/' + i, \"r\") as jfile:\n",
    "                jdata = json.load(jfile)\n",
    "                # read image\n",
    "                img=Image.open(train_dir + '/' + jdata['file']) \n",
    "                img = img.resize((128, 64))\n",
    "                imgs = img if flg_first else np.append(imgs, img)\n",
    "                # read license plate numbers\n",
    "                n_ = np.array(jdata['nums'])\n",
    "                Y_t = np.zeros((n_chr, 7))\n",
    "                Y_t[n_, np.arange(7)] = 1\n",
    "                Y_ = Y_t if (flg_first) else np.append(Y_, Y_t)\n",
    "                flg_first = False\n",
    "    Y_= np.split(Y_.reshape([-1,7]), 7, axis=1)\n",
    "    return imgs.reshape([-1, 128, 64, 1])/255., [i.reshape([-1,81]) for i in Y_]"
   ]
  },
  {
   "cell_type": "code",
   "execution_count": 9,
   "metadata": {},
   "outputs": [],
   "source": [
    "t_imgs, t_annotations = get_data_pair('tf/tf-train', 'tf/tf-train_annotation')\n",
    "v_imgs, v_annotations = get_data_pair('tf/tf-validation', 'tf/tf-validation_annotation')"
   ]
  },
  {
   "cell_type": "code",
   "execution_count": 10,
   "metadata": {},
   "outputs": [
    {
     "name": "stdout",
     "output_type": "stream",
     "text": [
      "8,000 train images and 8,000 annotations were loaded.\n",
      "2,000 validation images and 2,000 annotations were loaded.\n"
     ]
    }
   ],
   "source": [
    "print('{:,} train images and {:,} annotations were loaded.'.format(len(t_imgs),len(t_annotations[0])))\n",
    "print('{:,} validation images and {:,} annotations were loaded.'.format(len(v_imgs),len(v_annotations[0])))"
   ]
  },
  {
   "cell_type": "code",
   "execution_count": 11,
   "metadata": {},
   "outputs": [
    {
     "name": "stdout",
     "output_type": "stream",
     "text": [
      "8000\n",
      "(128, 64, 1)\n",
      "7\n",
      "(8000, 81)\n",
      "(8000, 81)\n",
      "(8000, 81)\n"
     ]
    }
   ],
   "source": [
    "print(len(t_imgs)) # 8,000 examples\n",
    "print(t_imgs[0].shape)\n",
    "print(len(t_annotations)) # list of 7 digits\n",
    "print(t_annotations[0].shape) # each annotation ndarray has the calss of 81 characters\n",
    "print(t_annotations[1].shape) \n",
    "print(t_annotations[6].shape) "
   ]
  },
  {
   "cell_type": "markdown",
   "metadata": {},
   "source": [
    "* Check 3 sample pairs of training inage and annotation"
   ]
  },
  {
   "cell_type": "code",
   "execution_count": 12,
   "metadata": {},
   "outputs": [],
   "source": [
    "import matplotlib.pyplot as plt"
   ]
  },
  {
   "cell_type": "code",
   "execution_count": 13,
   "metadata": {},
   "outputs": [
    {
     "data": {
      "image/png": "[encoded data removed]",
      "text/plain": [
       "<Figure size 432x288 with 1 Axes>"
      ]
     },
     "metadata": {},
     "output_type": "display_data"
    },
    {
     "name": "stdout",
     "output_type": "stream",
     "text": [
      "['4', '6', '구', '1', '8', '7', '8']\n"
     ]
    },
    {
     "data": {
      "image/png": "[encoded data removed]",
      "text/plain": [
       "<Figure size 432x288 with 1 Axes>"
      ]
     },
     "metadata": {},
     "output_type": "display_data"
    },
    {
     "name": "stdout",
     "output_type": "stream",
     "text": [
      "['5', '1', '푸', '2', '3', '2', '4']\n"
     ]
    },
    {
     "data": {
      "image/png": "[encoded data removed]",
      "text/plain": [
       "<Figure size 432x288 with 1 Axes>"
      ]
     },
     "metadata": {},
     "output_type": "display_data"
    },
    {
     "name": "stdout",
     "output_type": "stream",
     "text": [
      "['0', '2', '차', '2', '5', '7', '6']\n"
     ]
    }
   ],
   "source": [
    "for i in range(3):\n",
    "    plt.imshow(t_imgs[i].reshape([64,128]))\n",
    "    plt.show()\n",
    "    digits = [JOIN[np.argmax(t_annotations[0][i])], \n",
    "              JOIN[np.argmax(t_annotations[1][i])], \n",
    "              JOIN[np.argmax(t_annotations[2][i])], \n",
    "              JOIN[np.argmax(t_annotations[3][i])], \n",
    "              JOIN[np.argmax(t_annotations[4][i])], \n",
    "              JOIN[np.argmax(t_annotations[5][i])], \n",
    "              JOIN[np.argmax(t_annotations[6][i])]]\n",
    "    print(digits)"
   ]
  },
  {
   "cell_type": "code",
   "execution_count": null,
   "metadata": {},
   "outputs": [],
   "source": []
  },
  {
   "cell_type": "markdown",
   "metadata": {},
   "source": [
    "## Define CNN model\n",
    "* Define 3 Convolutions layers with Batch Normalization and Max Pooling with Keras\n",
    "* Will have 7 output nodes representing license plate character at each position"
   ]
  },
  {
   "cell_type": "code",
   "execution_count": 14,
   "metadata": {},
   "outputs": [],
   "source": [
    "def model(input_shape):\n",
    "    # Define the input placeholder as a tensor with shape input_shape. Think of this as your input image!\n",
    "    X_input = tf.keras.Input(input_shape)\n",
    "\n",
    "    # Zero-Padding: pads the border of X_input with zeroes\n",
    "    X = tf.keras.layers.ZeroPadding2D((2, 2))(X_input)\n",
    "\n",
    "    # CONV0 -> BN -> RELU -> MAXPOOL applied to X\n",
    "    X = tf.keras.layers.Conv2D(48, (5, 5), strides = (1, 1), name = 'conv0')(X)\n",
    "    X = tf.keras.layers.BatchNormalization(axis = 3, name = 'bn0')(X)\n",
    "    X = tf.keras.layers.Activation('relu')(X)\n",
    "    X = tf.keras.layers.MaxPooling2D((2, 2), strides = (2, 2), name='max_pool0')(X)\n",
    "\n",
    "    # CONV1 -> BN -> RELU -> MAXPOOL applied to X\n",
    "    X = tf.keras.layers.Conv2D(64, (5, 5), strides = (1, 1), name = 'conv1')(X)\n",
    "    X = tf.keras.layers.BatchNormalization(axis = 3, name = 'bn1')(X)\n",
    "    X = tf.keras.layers.Activation('relu')(X)\n",
    "    X = tf.keras.layers.MaxPooling2D((1, 2), strides = (2, 2), name='max_pool1')(X)\n",
    "\n",
    "    # CONV2 -> BN -> RELU -> MAXPOOL applied to X\n",
    "    X = tf.keras.layers.Conv2D(64, (5, 5), strides = (1, 1), name = 'conv2')(X)\n",
    "    X = tf.keras.layers.BatchNormalization(axis = 3, name = 'bn2')(X)\n",
    "    X = tf.keras.layers.Activation('relu')(X)\n",
    "    X = tf.keras.layers.MaxPooling2D((2, 2), strides = (2, 2), name='max_pool2')(X)\n",
    "\n",
    "    # FLATTEN X (means convert it to a vector) + FULLYCONNECTED\n",
    "    X = tf.keras.layers.Flatten()(X)\n",
    "    #----------------------------------------------------------\n",
    "    d1 = tf.keras.layers.Dense(81, activation='softmax', name='d1')(X)\n",
    "    d2 = tf.keras.layers.Dense(81, activation='softmax', name='d2')(X)\n",
    "    d3 = tf.keras.layers.Dense(81, activation='softmax', name='d3')(X)\n",
    "    d4 = tf.keras.layers.Dense(81, activation='softmax', name='d4')(X)\n",
    "    d5 = tf.keras.layers.Dense(81, activation='softmax', name='d5')(X)\n",
    "    d6 = tf.keras.layers.Dense(81, activation='softmax', name='d6')(X)\n",
    "    d7 = tf.keras.layers.Dense(81, activation='softmax', name='d7')(X)\n",
    "    \n",
    "    model = tf.keras.Model(inputs = X_input, \n",
    "                  outputs = [d1,d2,d3,d4,d5,d6,d7],\n",
    "                  name='CNN_ANPR')\n",
    "\n",
    "    return model"
   ]
  },
  {
   "cell_type": "markdown",
   "metadata": {},
   "source": [
    "* Compile the model and veiw summary"
   ]
  },
  {
   "cell_type": "code",
   "execution_count": 15,
   "metadata": {},
   "outputs": [
    {
     "name": "stdout",
     "output_type": "stream",
     "text": [
      "Model: \"CNN_ANPR\"\n",
      "__________________________________________________________________________________________________\n",
      "Layer (type)                    Output Shape         Param #     Connected to                     \n",
      "==================================================================================================\n",
      "input_1 (InputLayer)            [(None, 128, 64, 1)] 0                                            \n",
      "__________________________________________________________________________________________________\n",
      "zero_padding2d (ZeroPadding2D)  (None, 132, 68, 1)   0           input_1[0][0]                    \n",
      "__________________________________________________________________________________________________\n",
      "conv0 (Conv2D)                  (None, 128, 64, 48)  1248        zero_padding2d[0][0]             \n",
      "__________________________________________________________________________________________________\n",
      "bn0 (BatchNormalization)        (None, 128, 64, 48)  192         conv0[0][0]                      \n",
      "__________________________________________________________________________________________________\n",
      "activation (Activation)         (None, 128, 64, 48)  0           bn0[0][0]                        \n",
      "__________________________________________________________________________________________________\n",
      "max_pool0 (MaxPooling2D)        (None, 64, 32, 48)   0           activation[0][0]                 \n",
      "__________________________________________________________________________________________________\n",
      "conv1 (Conv2D)                  (None, 60, 28, 64)   76864       max_pool0[0][0]                  \n",
      "__________________________________________________________________________________________________\n",
      "bn1 (BatchNormalization)        (None, 60, 28, 64)   256         conv1[0][0]                      \n",
      "__________________________________________________________________________________________________\n",
      "activation_1 (Activation)       (None, 60, 28, 64)   0           bn1[0][0]                        \n",
      "__________________________________________________________________________________________________\n",
      "max_pool1 (MaxPooling2D)        (None, 30, 14, 64)   0           activation_1[0][0]               \n",
      "__________________________________________________________________________________________________\n",
      "conv2 (Conv2D)                  (None, 26, 10, 64)   102464      max_pool1[0][0]                  \n",
      "__________________________________________________________________________________________________\n",
      "bn2 (BatchNormalization)        (None, 26, 10, 64)   256         conv2[0][0]                      \n",
      "__________________________________________________________________________________________________\n",
      "activation_2 (Activation)       (None, 26, 10, 64)   0           bn2[0][0]                        \n",
      "__________________________________________________________________________________________________\n",
      "max_pool2 (MaxPooling2D)        (None, 13, 5, 64)    0           activation_2[0][0]               \n",
      "__________________________________________________________________________________________________\n",
      "flatten (Flatten)               (None, 4160)         0           max_pool2[0][0]                  \n",
      "__________________________________________________________________________________________________\n",
      "d1 (Dense)                      (None, 81)           337041      flatten[0][0]                    \n",
      "__________________________________________________________________________________________________\n",
      "d2 (Dense)                      (None, 81)           337041      flatten[0][0]                    \n",
      "__________________________________________________________________________________________________\n",
      "d3 (Dense)                      (None, 81)           337041      flatten[0][0]                    \n",
      "__________________________________________________________________________________________________\n",
      "d4 (Dense)                      (None, 81)           337041      flatten[0][0]                    \n",
      "__________________________________________________________________________________________________\n",
      "d5 (Dense)                      (None, 81)           337041      flatten[0][0]                    \n",
      "__________________________________________________________________________________________________\n",
      "d6 (Dense)                      (None, 81)           337041      flatten[0][0]                    \n",
      "__________________________________________________________________________________________________\n",
      "d7 (Dense)                      (None, 81)           337041      flatten[0][0]                    \n",
      "==================================================================================================\n",
      "Total params: 2,540,567\n",
      "Trainable params: 2,540,215\n",
      "Non-trainable params: 352\n",
      "__________________________________________________________________________________________________\n"
     ]
    }
   ],
   "source": [
    "input_shape = (128,64,1)\n",
    "model_k = model(input_shape)\n",
    "model_k.compile(optimizer=tf.train.AdamOptimizer(learning_rate=0.001), \n",
    "                loss=['categorical_crossentropy','categorical_crossentropy','categorical_crossentropy','categorical_crossentropy',\n",
    "                      'categorical_crossentropy','categorical_crossentropy','categorical_crossentropy'],\n",
    "                metrics = [\"accuracy\"])\n",
    "model_k.summary()"
   ]
  },
  {
   "cell_type": "markdown",
   "metadata": {},
   "source": [
    "* Finally, run traing job\n",
    "* **It may take 1~2 minutes**\n",
    "* For now, We wll just run 1 epochs to see if our code works well\n",
    "* **Do check the loss is decresing and the accuracy is increasing from training job logs**"
   ]
  },
  {
   "cell_type": "code",
   "execution_count": 16,
   "metadata": {},
   "outputs": [
    {
     "name": "stdout",
     "output_type": "stream",
     "text": [
      "Train on 8000 samples, validate on 2000 samples\n",
      "WARNING:tensorflow:From /home/ec2-user/anaconda3/envs/tensorflow_p36/lib/python3.6/site-packages/tensorflow/python/ops/math_grad.py:1250: add_dispatch_support.<locals>.wrapper (from tensorflow.python.ops.array_ops) is deprecated and will be removed in a future version.\n",
      "Instructions for updating:\n",
      "Use tf.where in 2.0, which has the same broadcast rule as np.where\n",
      "8000/8000 [==============================] - 67s 8ms/sample - loss: 19.6334 - d1_loss: 2.4774 - d2_loss: 2.4579 - d3_loss: 4.6656 - d4_loss: 2.5059 - d5_loss: 2.5051 - d6_loss: 2.4911 - d7_loss: 2.5168 - d1_acc: 0.1181 - d2_acc: 0.1294 - d3_acc: 0.0190 - d4_acc: 0.1070 - d5_acc: 0.1142 - d6_acc: 0.1086 - d7_acc: 0.1084 - val_loss: 18.9777 - val_d1_loss: 2.5129 - val_d2_loss: 2.3550 - val_d3_loss: 4.5255 - val_d4_loss: 2.3742 - val_d5_loss: 2.3740 - val_d6_loss: 2.4083 - val_d7_loss: 2.4274 - val_d1_acc: 0.1025 - val_d2_acc: 0.1135 - val_d3_acc: 0.0180 - val_d4_acc: 0.1060 - val_d5_acc: 0.1120 - val_d6_acc: 0.0990 - val_d7_acc: 0.0865\n",
      "CPU times: user 5min 11s, sys: 1min 13s, total: 6min 24s\n",
      "Wall time: 1min 9s\n"
     ]
    },
    {
     "data": {
      "text/plain": [
       "<tensorflow.python.keras.callbacks.History at 0x7f73efbc1a58>"
      ]
     },
     "execution_count": 16,
     "metadata": {},
     "output_type": "execute_result"
    }
   ],
   "source": [
    "%%time\n",
    "model_k.fit(t_imgs, [i.reshape([-1,81]) for i in t_annotations], \n",
    "            validation_data=(v_imgs, [i.reshape([-1,81]) for i in v_annotations]), \n",
    "            epochs=1, batch_size=128, verbose=1)"
   ]
  },
  {
   "cell_type": "code",
   "execution_count": null,
   "metadata": {},
   "outputs": [],
   "source": []
  },
  {
   "cell_type": "markdown",
   "metadata": {},
   "source": [
    "## Evaluate model (It is not accurate yet)"
   ]
  },
  {
   "cell_type": "markdown",
   "metadata": {},
   "source": [
    "* Check the overall accuracy"
   ]
  },
  {
   "cell_type": "code",
   "execution_count": 17,
   "metadata": {},
   "outputs": [
    {
     "name": "stdout",
     "output_type": "stream",
     "text": [
      "2000/2000 [==============================] - 7s 4ms/sample - loss: 18.9777 - d1_loss: 2.5113 - d2_loss: 2.3535 - d3_loss: 4.5173 - d4_loss: 2.3751 - d5_loss: 2.3751 - d6_loss: 2.4100 - d7_loss: 2.4291 - d1_acc: 0.1025 - d2_acc: 0.1135 - d3_acc: 0.0180 - d4_acc: 0.1060 - d5_acc: 0.1120 - d6_acc: 0.0990 - d7_acc: 0.0865\n",
      "\n",
      "Loss = 18.977732040405275\n",
      "Test Accuracy = 2.511312\n"
     ]
    }
   ],
   "source": [
    "preds = model_k.evaluate(v_imgs, [i.reshape([-1,81]) for i in v_annotations], batch_size=64, verbose=1, sample_weight=None)\n",
    "print()\n",
    "print (\"Loss = \" + str(preds[0]))\n",
    "print (\"Test Accuracy = \" + str(preds[1]))"
   ]
  },
  {
   "cell_type": "markdown",
   "metadata": {},
   "source": [
    "* Check the prediction results of 3 sample data pairs"
   ]
  },
  {
   "cell_type": "code",
   "execution_count": 18,
   "metadata": {},
   "outputs": [],
   "source": [
    "prediction = model_k.predict(v_imgs[:10])"
   ]
  },
  {
   "cell_type": "code",
   "execution_count": 19,
   "metadata": {},
   "outputs": [
    {
     "data": {
      "image/png": "[encoded data removed]",
      "text/plain": [
       "<Figure size 432x288 with 1 Axes>"
      ]
     },
     "metadata": {},
     "output_type": "display_data"
    },
    {
     "name": "stdout",
     "output_type": "stream",
     "text": [
      "['1', '5', '차', '0', '7', '2', '2']\n"
     ]
    },
    {
     "data": {
      "image/png": "[encoded data removed]",
      "text/plain": [
       "<Figure size 432x288 with 1 Axes>"
      ]
     },
     "metadata": {},
     "output_type": "display_data"
    },
    {
     "name": "stdout",
     "output_type": "stream",
     "text": [
      "['1', '5', '차', '0', '7', '2', '2']\n"
     ]
    },
    {
     "data": {
      "image/png": "[encoded data removed]",
      "text/plain": [
       "<Figure size 432x288 with 1 Axes>"
      ]
     },
     "metadata": {},
     "output_type": "display_data"
    },
    {
     "name": "stdout",
     "output_type": "stream",
     "text": [
      "['1', '5', '차', '0', '7', '2', '2']\n"
     ]
    }
   ],
   "source": [
    "for i in range(3):\n",
    "    plt.imshow(v_imgs[i].reshape([64,128]))\n",
    "    plt.show()\n",
    "    digits = [JOIN[np.argmax(prediction[0][i])], \n",
    "              JOIN[np.argmax(prediction[1][i])], \n",
    "              JOIN[np.argmax(prediction[2][i])], \n",
    "              JOIN[np.argmax(prediction[3][i])], \n",
    "              JOIN[np.argmax(prediction[4][i])], \n",
    "              JOIN[np.argmax(prediction[5][i])], \n",
    "              JOIN[np.argmax(prediction[6][i])]]\n",
    "    print(digits)"
   ]
  },
  {
   "cell_type": "markdown",
   "metadata": {},
   "source": [
    "* We verified our code runs successfully\n",
    "* The accuracy of our model is not good enough yet\n",
    "* **We will retrain our model with SageMaker in Lab3**"
   ]
  },
  {
   "cell_type": "markdown",
   "metadata": {},
   "source": [
    "## Next step\n",
    "Remember you defined model() and get_data_pair() function.  \n",
    "Move to [Lab3](Lab3-train-deploy-host-on-SM.ipynb) to run this code on the Cloud."
   ]
  },
  {
   "cell_type": "code",
   "execution_count": null,
   "metadata": {},
   "outputs": [],
   "source": []
  }
 ],
 "metadata": {
  "kernelspec": {
   "display_name": "conda_tensorflow_p36",
   "language": "python",
   "name": "conda_tensorflow_p36"
  },
  "language_info": {
   "codemirror_mode": {
    "name": "ipython",
    "version": 3
   },
   "file_extension": ".py",
   "mimetype": "text/x-python",
   "name": "python",
   "nbconvert_exporter": "python",
   "pygments_lexer": "ipython3",
   "version": "3.6.13"
  }
 },
 "nbformat": 4,
 "nbformat_minor": 4
}