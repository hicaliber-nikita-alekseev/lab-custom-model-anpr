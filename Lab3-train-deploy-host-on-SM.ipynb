{
 "cells": [
  {
   "cell_type": "markdown",
   "metadata": {},
   "source": [
    "# Lab3. Training, Deploying and hosting custom model on SageMaker"
   ]
  },
  {
   "cell_type": "markdown",
   "metadata": {},
   "source": [
    "In this lab, you will run your training job with SageMaker. You will use your CNN architecture and script that you build at Lab2. "
   ]
  },
  {
   "cell_type": "markdown",
   "metadata": {},
   "source": [
    " ## Set up SageMaker environment"
   ]
  },
  {
   "cell_type": "markdown",
   "metadata": {},
   "source": [
    "* **Plase note that the Tensorflow eager mode will be enabled by below code:**  \n",
    " tf.enable_eager_execution()"
   ]
  },
  {
   "cell_type": "code",
   "execution_count": 1,
   "metadata": {},
   "outputs": [],
   "source": [
    "from PIL import Image\n",
    "import json\n",
    "import os\n",
    "import matplotlib.image as mpimg\n",
    "import tensorflow as tf\n",
    "from tensorflow.contrib.eager.python import tfe\n",
    "from sagemaker.tensorflow import TensorFlow\n",
    "\n",
    "tf.enable_eager_execution()"
   ]
  },
  {
   "cell_type": "code",
   "execution_count": 2,
   "metadata": {},
   "outputs": [
    {
     "name": "stdout",
     "output_type": "stream",
     "text": [
      "arn:aws:iam::308961792850:role/service-role/AmazonSageMaker-ExecutionRole-20180531T094549\n",
      "CPU times: user 145 ms, sys: 4.42 ms, total: 150 ms\n",
      "Wall time: 292 ms\n"
     ]
    }
   ],
   "source": [
    "%%time\n",
    "import sagemaker\n",
    "from sagemaker import get_execution_role\n",
    "\n",
    "role = get_execution_role()\n",
    "print(role)\n",
    "sess = sagemaker.Session()"
   ]
  },
  {
   "cell_type": "markdown",
   "metadata": {},
   "source": [
    "## Upload data to S3"
   ]
  },
  {
   "cell_type": "markdown",
   "metadata": {},
   "source": [
    "* Upload files to S3\n",
    "* It may take several minutes **(5 minutes for 10,000 images)**"
   ]
  },
  {
   "cell_type": "code",
   "execution_count": 3,
   "metadata": {},
   "outputs": [],
   "source": [
    "bucket = sess.default_bucket() \n",
    "prefix = 'anpr'"
   ]
  },
  {
   "cell_type": "code",
   "execution_count": 4,
   "metadata": {},
   "outputs": [
    {
     "name": "stdout",
     "output_type": "stream",
     "text": [
      "there are 10,000 files in gen/cropped-imgs folder.\n",
      "there are 10,000 files in gen/nums-tags folder.\n",
      "there are 8,000 files in tf/tf-train folder.\n",
      "there are 8,000 files in tf/tf-train_annotation folder.\n",
      "there are 2,000 files in tf/tf-validation folder.\n",
      "there are 2,000 files in tf/tf-validation_annotation folder.\n"
     ]
    }
   ],
   "source": [
    "print('there are {:,} files in gen/cropped-imgs folder.'.format(len(os.listdir('gen/cropped-imgs'))))\n",
    "print('there are {:,} files in gen/nums-tags folder.'.format(len(os.listdir('gen/nums-tags'))))\n",
    "print('there are {:,} files in tf/tf-train folder.'.format(len(os.listdir('tf/tf-train'))))\n",
    "print('there are {:,} files in tf/tf-train_annotation folder.'.format(len(os.listdir('tf/tf-train_annotation'))))\n",
    "print('there are {:,} files in tf/tf-validation folder.'.format(len(os.listdir('tf/tf-validation'))))\n",
    "print('there are {:,} files in tf/tf-validation_annotation folder.'.format(len(os.listdir('tf/tf-validation_annotation'))))"
   ]
  },
  {
   "cell_type": "code",
   "execution_count": 5,
   "metadata": {},
   "outputs": [],
   "source": [
    "s3_train_data = 's3://{}/{}/{}'.format(bucket, prefix, 'tf/tf-train')\n",
    "s3_validation_data = 's3://{}/{}/{}'.format(bucket, prefix, 'tf/tf-validation')\n",
    "s3_train_annotation = 's3://{}/{}/{}'.format(bucket, prefix, 'tf/tf-train_annotation')\n",
    "s3_validation_annotation = 's3://{}/{}/{}'.format(bucket, prefix, 'tf/tf-validation_annotation')"
   ]
  },
  {
   "cell_type": "code",
   "execution_count": 6,
   "metadata": {},
   "outputs": [
    {
     "name": "stdout",
     "output_type": "stream",
     "text": [
      "CPU times: user 4.7 s, sys: 959 ms, total: 5.65 s\n",
      "Wall time: 4min 29s\n"
     ]
    }
   ],
   "source": [
    "%%time\n",
    "!aws s3 cp tf/tf-train {s3_train_data} --include \"*_0.png\" --recursive --only-show-errors\n",
    "!aws s3 cp tf/tf-train {s3_train_data} --include \"*_1.png\" --recursive --only-show-errors\n",
    "\n",
    "!aws s3 cp tf/tf-validation {s3_validation_data} --recursive --only-show-errors\n",
    "!aws s3 cp tf/tf-train_annotation {s3_train_annotation} --recursive --only-show-errors\n",
    "!aws s3 cp tf/tf-validation_annotation {s3_validation_annotation} --recursive --only-show-errors"
   ]
  },
  {
   "cell_type": "markdown",
   "metadata": {},
   "source": [
    "* Check upload results "
   ]
  },
  {
   "cell_type": "code",
   "execution_count": 7,
   "metadata": {},
   "outputs": [
    {
     "name": "stdout",
     "output_type": "stream",
     "text": [
      "8000\n",
      "2000\n",
      "8000\n",
      "2000\n"
     ]
    }
   ],
   "source": [
    "!aws s3 ls {s3_train_data}/ |wc -l\n",
    "!aws s3 ls {s3_validation_data}/ |wc -l\n",
    "!aws s3 ls {s3_train_annotation}/ |wc -l\n",
    "!aws s3 ls {s3_validation_annotation}/ |wc -l"
   ]
  },
  {
   "cell_type": "code",
   "execution_count": 8,
   "metadata": {},
   "outputs": [],
   "source": [
    "s3_output_location = 's3://{}/{}/tf-output'.format(bucket, prefix)"
   ]
  },
  {
   "cell_type": "markdown",
   "metadata": {},
   "source": [
    "## Check data channels"
   ]
  },
  {
   "cell_type": "markdown",
   "metadata": {},
   "source": [
    "Training data will be copied from S3 to Tensorflow container.  \n",
    "Refer to the below directory paths."
   ]
  },
  {
   "cell_type": "markdown",
   "metadata": {},
   "source": [
    "### Test and validation data directories\n",
    "1) In this notebook\n",
    "- train images: './tf/tf-train'\n",
    "- train annotations: './tf/tf-train_annotations'\n",
    "- validation images: './tf/tf-validation'\n",
    "- validation annotations: './tf/tf-validation_annotations'\n",
    "\n",
    "2) S3\n",
    "- train images: 's3://leonkang-datalake-seoul/anpr/tf/tf-train'\n",
    "- train annotations: 's3://leonkang-datalake-seoul/anpr/tf/tf-validation'\n",
    "- validation images: 's3://leonkang-datalake-seoul/anpr/tf/tf-train_annotations'\n",
    "- validation annotations: 's3://leonkang-datalake-seoul/anpr/tf/tf-validation_annotations'\n",
    "\n",
    "**3) Training container (Tensorflow container)**\n",
    "- **train images: '/opt/ml/input/data/train/'**\n",
    "- **train annotations: '/opt/ml/input/data/train_annotation/'**\n",
    "- **validation images: '/opt/ml/input/data/validation/'**\n",
    "- **validation annotations: '/opt/ml/input/data/validation_annotation/'**"
   ]
  },
  {
   "cell_type": "code",
   "execution_count": 9,
   "metadata": {},
   "outputs": [],
   "source": [
    "train_data = sagemaker.inputs.TrainingInput(s3_train_data, distribution='FullyReplicated',\n",
    "                        content_type='image/png', s3_data_type='S3Prefix')\n",
    "validation_data = sagemaker.inputs.TrainingInput(s3_validation_data, distribution='FullyReplicated',\n",
    "                             content_type='image/png', s3_data_type='S3Prefix')\n",
    "train_annotation = sagemaker.inputs.TrainingInput(s3_train_annotation, distribution='FullyReplicated',\n",
    "                             content_type='application/json', s3_data_type='S3Prefix')\n",
    "validation_annotation = sagemaker.inputs.TrainingInput(s3_validation_annotation, distribution='FullyReplicated',\n",
    "                             content_type='application/json', s3_data_type='S3Prefix')\n",
    "\n",
    "data_channels = {'train': train_data, 'validation': validation_data,\n",
    "                 'train_annotation': train_annotation, 'validation_annotation':validation_annotation}"
   ]
  },
  {
   "cell_type": "markdown",
   "metadata": {},
   "source": [
    "\n",
    "* Refer to API specs of SDK site\n",
    "    * https://github.com/aws/sagemaker-python-sdk/blob/master/src/sagemaker/tensorflow/README.rst\n",
    "    * https://sagemaker.readthedocs.io/en/latest/using_tf.html\n",
    "* Refer to the API document \n",
    "    * https://sagemaker.readthedocs.io/en/stable/sagemaker.tensorflow.html  \n",
    "   (Note that checkpoint_path, training_steps, evaluation_steps, requirements_file args are not permitted when using Script Mode)"
   ]
  },
  {
   "cell_type": "code",
   "execution_count": null,
   "metadata": {},
   "outputs": [],
   "source": []
  },
  {
   "cell_type": "markdown",
   "metadata": {},
   "source": [
    "## Check the code of 'cnn_ocr.py' for entry_point\n",
    "* Thins file will be passed as entry_point when defining Tensorflow Estimator\n",
    "* Notice that **model() function and get_data_pair() function are exactly same** as Lab2\n",
    "* Hperparameters are parsed from argparse.ArgumentParser() as they will **be passed as arguments of the python run command line script**.\n",
    "* In the main function, input data are loaded from local directory **'/opt/ml/input/data/{...channel...}'** thru SM_CHANNEL_... parameters\n",
    "* In the main function, output model is stored in **'/opt/ml/model'** directory "
   ]
  },
  {
   "cell_type": "code",
   "execution_count": 2,
   "metadata": {},
   "outputs": [
    {
     "name": "stdout",
     "output_type": "stream",
     "text": [
      "\u001B[34mimport\u001B[39;49;00m \u001B[04m\u001B[36mnumpy\u001B[39;49;00m \u001B[34mas\u001B[39;49;00m \u001B[04m\u001B[36mnp\u001B[39;49;00m\n",
      "\u001B[34mfrom\u001B[39;49;00m \u001B[04m\u001B[36mkeras\u001B[39;49;00m \u001B[34mimport\u001B[39;49;00m layers\n",
      "\u001B[34mfrom\u001B[39;49;00m \u001B[04m\u001B[36mkeras\u001B[39;49;00m\u001B[04m\u001B[36m.\u001B[39;49;00m\u001B[04m\u001B[36mlayers\u001B[39;49;00m \u001B[34mimport\u001B[39;49;00m Input, Dense, Activation, ZeroPadding2D, BatchNormalization, Flatten, Conv2D\n",
      "\u001B[34mfrom\u001B[39;49;00m \u001B[04m\u001B[36mkeras\u001B[39;49;00m\u001B[04m\u001B[36m.\u001B[39;49;00m\u001B[04m\u001B[36mlayers\u001B[39;49;00m \u001B[34mimport\u001B[39;49;00m AveragePooling2D, MaxPooling2D, Dropout, GlobalMaxPooling2D, GlobalAveragePooling2D\n",
      "\u001B[34mfrom\u001B[39;49;00m \u001B[04m\u001B[36mkeras\u001B[39;49;00m\u001B[04m\u001B[36m.\u001B[39;49;00m\u001B[04m\u001B[36mmodels\u001B[39;49;00m \u001B[34mimport\u001B[39;49;00m Model\n",
      "\u001B[34mfrom\u001B[39;49;00m \u001B[04m\u001B[36mkeras\u001B[39;49;00m\u001B[04m\u001B[36m.\u001B[39;49;00m\u001B[04m\u001B[36mpreprocessing\u001B[39;49;00m \u001B[34mimport\u001B[39;49;00m image\n",
      "\u001B[34mfrom\u001B[39;49;00m \u001B[04m\u001B[36mkeras\u001B[39;49;00m\u001B[04m\u001B[36m.\u001B[39;49;00m\u001B[04m\u001B[36mutils\u001B[39;49;00m \u001B[34mimport\u001B[39;49;00m layer_utils\n",
      "\u001B[34mfrom\u001B[39;49;00m \u001B[04m\u001B[36mkeras\u001B[39;49;00m\u001B[04m\u001B[36m.\u001B[39;49;00m\u001B[04m\u001B[36mutils\u001B[39;49;00m\u001B[04m\u001B[36m.\u001B[39;49;00m\u001B[04m\u001B[36mdata_utils\u001B[39;49;00m \u001B[34mimport\u001B[39;49;00m get_file\n",
      "\u001B[34mfrom\u001B[39;49;00m \u001B[04m\u001B[36mkeras\u001B[39;49;00m\u001B[04m\u001B[36m.\u001B[39;49;00m\u001B[04m\u001B[36mapplications\u001B[39;49;00m\u001B[04m\u001B[36m.\u001B[39;49;00m\u001B[04m\u001B[36mimagenet_utils\u001B[39;49;00m \u001B[34mimport\u001B[39;49;00m preprocess_input\n",
      "\u001B[34mfrom\u001B[39;49;00m \u001B[04m\u001B[36mkeras\u001B[39;49;00m\u001B[04m\u001B[36m.\u001B[39;49;00m\u001B[04m\u001B[36mutils\u001B[39;49;00m\u001B[04m\u001B[36m.\u001B[39;49;00m\u001B[04m\u001B[36mvis_utils\u001B[39;49;00m \u001B[34mimport\u001B[39;49;00m model_to_dot\n",
      "\u001B[34mfrom\u001B[39;49;00m \u001B[04m\u001B[36mkeras\u001B[39;49;00m\u001B[04m\u001B[36m.\u001B[39;49;00m\u001B[04m\u001B[36mutils\u001B[39;49;00m \u001B[34mimport\u001B[39;49;00m plot_model\n",
      "\u001B[34mfrom\u001B[39;49;00m \u001B[04m\u001B[36mkeras\u001B[39;49;00m\u001B[04m\u001B[36m.\u001B[39;49;00m\u001B[04m\u001B[36mlayers\u001B[39;49;00m \u001B[34mimport\u001B[39;49;00m concatenate\n",
      "\u001B[34mimport\u001B[39;49;00m \u001B[04m\u001B[36mos\u001B[39;49;00m\n",
      "\u001B[34mimport\u001B[39;49;00m \u001B[04m\u001B[36margparse\u001B[39;49;00m\n",
      "\n",
      "\u001B[34mimport\u001B[39;49;00m \u001B[04m\u001B[36mjson\u001B[39;49;00m\n",
      "\u001B[34mfrom\u001B[39;49;00m \u001B[04m\u001B[36mPIL\u001B[39;49;00m \u001B[34mimport\u001B[39;49;00m Image\n",
      "\n",
      "\u001B[34mimport\u001B[39;49;00m \u001B[04m\u001B[36mkeras\u001B[39;49;00m\u001B[04m\u001B[36m.\u001B[39;49;00m\u001B[04m\u001B[36mbackend\u001B[39;49;00m \u001B[34mas\u001B[39;49;00m \u001B[04m\u001B[36mK\u001B[39;49;00m\n",
      "K.set_image_data_format(\u001B[33m'\u001B[39;49;00m\u001B[33mchannels_last\u001B[39;49;00m\u001B[33m'\u001B[39;49;00m)\n",
      "\u001B[34mimport\u001B[39;49;00m \u001B[04m\u001B[36mtensorflow\u001B[39;49;00m \u001B[34mas\u001B[39;49;00m \u001B[04m\u001B[36mtf\u001B[39;49;00m\n",
      "\n",
      "\u001B[34mfrom\u001B[39;49;00m \u001B[04m\u001B[36mtensorflow\u001B[39;49;00m\u001B[04m\u001B[36m.\u001B[39;49;00m\u001B[04m\u001B[36mcontrib\u001B[39;49;00m\u001B[04m\u001B[36m.\u001B[39;49;00m\u001B[04m\u001B[36meager\u001B[39;49;00m\u001B[04m\u001B[36m.\u001B[39;49;00m\u001B[04m\u001B[36mpython\u001B[39;49;00m \u001B[34mimport\u001B[39;49;00m tfe\n",
      "\n",
      "tf.enable_eager_execution()\n",
      "tf.set_random_seed(\u001B[34m0\u001B[39;49;00m)\n",
      "\n",
      "\u001B[34mfrom\u001B[39;49;00m \u001B[04m\u001B[36mconstants\u001B[39;49;00m \u001B[34mimport\u001B[39;49;00m JOIN\n",
      "n_chr=\u001B[36mlen\u001B[39;49;00m(JOIN)\n",
      "\n",
      "\u001B[34mdef\u001B[39;49;00m \u001B[32mparse_args\u001B[39;49;00m():\n",
      "    \n",
      "    parser = argparse.ArgumentParser()\n",
      "\n",
      "    \u001B[37m# hyperparameters sent by the client are passed as command-line arguments to the script\u001B[39;49;00m\n",
      "    parser.add_argument(\u001B[33m'\u001B[39;49;00m\u001B[33m--epochs\u001B[39;49;00m\u001B[33m'\u001B[39;49;00m, \u001B[36mtype\u001B[39;49;00m=\u001B[36mint\u001B[39;49;00m, default=\u001B[34m100\u001B[39;49;00m)\n",
      "    parser.add_argument(\u001B[33m'\u001B[39;49;00m\u001B[33m--batch_size\u001B[39;49;00m\u001B[33m'\u001B[39;49;00m, \u001B[36mtype\u001B[39;49;00m=\u001B[36mint\u001B[39;49;00m, default=\u001B[34m64\u001B[39;49;00m)\n",
      "    parser.add_argument(\u001B[33m'\u001B[39;49;00m\u001B[33m--learning_rate\u001B[39;49;00m\u001B[33m'\u001B[39;49;00m, \u001B[36mtype\u001B[39;49;00m=\u001B[36mfloat\u001B[39;49;00m, default=\u001B[34m0.001\u001B[39;49;00m)\n",
      "    parser.add_argument(\u001B[33m'\u001B[39;49;00m\u001B[33m--verbose\u001B[39;49;00m\u001B[33m'\u001B[39;49;00m, \u001B[36mtype\u001B[39;49;00m=\u001B[36mint\u001B[39;49;00m, default=\u001B[34m1\u001B[39;49;00m)\n",
      "    \n",
      "    \u001B[37m# data directories\u001B[39;49;00m\n",
      "    parser.add_argument(\u001B[33m'\u001B[39;49;00m\u001B[33m--train\u001B[39;49;00m\u001B[33m'\u001B[39;49;00m, \u001B[36mtype\u001B[39;49;00m=\u001B[36mstr\u001B[39;49;00m, default=os.environ.get(\u001B[33m'\u001B[39;49;00m\u001B[33mSM_CHANNEL_TRAIN\u001B[39;49;00m\u001B[33m'\u001B[39;49;00m))\n",
      "    parser.add_argument(\u001B[33m'\u001B[39;49;00m\u001B[33m--validation\u001B[39;49;00m\u001B[33m'\u001B[39;49;00m, \u001B[36mtype\u001B[39;49;00m=\u001B[36mstr\u001B[39;49;00m, default=os.environ.get(\u001B[33m'\u001B[39;49;00m\u001B[33mSM_CHANNEL_VALIDATION\u001B[39;49;00m\u001B[33m'\u001B[39;49;00m))\n",
      "    parser.add_argument(\u001B[33m'\u001B[39;49;00m\u001B[33m--train_annotation\u001B[39;49;00m\u001B[33m'\u001B[39;49;00m, \u001B[36mtype\u001B[39;49;00m=\u001B[36mstr\u001B[39;49;00m, default=os.environ.get(\u001B[33m'\u001B[39;49;00m\u001B[33mSM_CHANNEL_TRAIN_ANNOTATION\u001B[39;49;00m\u001B[33m'\u001B[39;49;00m))\n",
      "    parser.add_argument(\u001B[33m'\u001B[39;49;00m\u001B[33m--validation_annotation\u001B[39;49;00m\u001B[33m'\u001B[39;49;00m, \u001B[36mtype\u001B[39;49;00m=\u001B[36mstr\u001B[39;49;00m, default=os.environ.get(\u001B[33m'\u001B[39;49;00m\u001B[33mSM_CHANNEL_VALIDATION_ANNOTATION\u001B[39;49;00m\u001B[33m'\u001B[39;49;00m))\n",
      "    \n",
      "    \u001B[37m# model directory: we will use the default set by SageMaker, /opt/ml/model\u001B[39;49;00m\n",
      "    parser.add_argument(\u001B[33m'\u001B[39;49;00m\u001B[33m--model_dir\u001B[39;49;00m\u001B[33m'\u001B[39;49;00m, \u001B[36mtype\u001B[39;49;00m=\u001B[36mstr\u001B[39;49;00m, default=os.environ.get(\u001B[33m'\u001B[39;49;00m\u001B[33mSM_MODEL_DIR\u001B[39;49;00m\u001B[33m'\u001B[39;49;00m))\n",
      "    \n",
      "    \u001B[34mreturn\u001B[39;49;00m parser.parse_known_args()\n",
      "\n",
      "\u001B[34mdef\u001B[39;49;00m \u001B[32mget_data_pair\u001B[39;49;00m(train_dir, annotation_dir):\n",
      "    t_jsns = os.listdir(annotation_dir)\n",
      "    flg_first = \u001B[34mTrue\u001B[39;49;00m\n",
      "    \u001B[34mfor\u001B[39;49;00m i \u001B[35min\u001B[39;49;00m t_jsns:\n",
      "        ext = i.split(\u001B[33m'\u001B[39;49;00m\u001B[33m.\u001B[39;49;00m\u001B[33m'\u001B[39;49;00m)[\u001B[34m1\u001B[39;49;00m]\n",
      "        \u001B[34mif\u001B[39;49;00m ext == \u001B[33m'\u001B[39;49;00m\u001B[33mjson\u001B[39;49;00m\u001B[33m'\u001B[39;49;00m:\n",
      "            \u001B[34mwith\u001B[39;49;00m \u001B[36mopen\u001B[39;49;00m(annotation_dir + \u001B[33m'\u001B[39;49;00m\u001B[33m/\u001B[39;49;00m\u001B[33m'\u001B[39;49;00m + i, \u001B[33m\"\u001B[39;49;00m\u001B[33mr\u001B[39;49;00m\u001B[33m\"\u001B[39;49;00m) \u001B[34mas\u001B[39;49;00m jfile:\n",
      "                jdata = json.load(jfile)\n",
      "                \u001B[37m# read image\u001B[39;49;00m\n",
      "                img=Image.open(train_dir + \u001B[33m'\u001B[39;49;00m\u001B[33m/\u001B[39;49;00m\u001B[33m'\u001B[39;49;00m + jdata[\u001B[33m'\u001B[39;49;00m\u001B[33mfile\u001B[39;49;00m\u001B[33m'\u001B[39;49;00m]) \n",
      "                img = img.resize((\u001B[34m128\u001B[39;49;00m, \u001B[34m64\u001B[39;49;00m))\n",
      "                imgs = img \u001B[34mif\u001B[39;49;00m flg_first \u001B[34melse\u001B[39;49;00m np.append(imgs, img)\n",
      "                \u001B[37m# read license plate numbers\u001B[39;49;00m\n",
      "                n_ = np.array(jdata[\u001B[33m'\u001B[39;49;00m\u001B[33mnums\u001B[39;49;00m\u001B[33m'\u001B[39;49;00m])\n",
      "                Y_t = np.zeros((n_chr, \u001B[34m7\u001B[39;49;00m))\n",
      "                Y_t[n_, np.arange(\u001B[34m7\u001B[39;49;00m)] = \u001B[34m1\u001B[39;49;00m\n",
      "                Y_ = Y_t \u001B[34mif\u001B[39;49;00m (flg_first) \u001B[34melse\u001B[39;49;00m np.append(Y_, Y_t)\n",
      "                flg_first = \u001B[34mFalse\u001B[39;49;00m\n",
      "    digits= np.split(Y_.reshape([-\u001B[34m1\u001B[39;49;00m,\u001B[34m7\u001B[39;49;00m]), \u001B[34m7\u001B[39;49;00m, axis=\u001B[34m1\u001B[39;49;00m)\n",
      "    \u001B[34mreturn\u001B[39;49;00m imgs.reshape([-\u001B[34m1\u001B[39;49;00m, \u001B[34m128\u001B[39;49;00m, \u001B[34m64\u001B[39;49;00m, \u001B[34m1\u001B[39;49;00m])/\u001B[34m255.\u001B[39;49;00m, [i.reshape([-\u001B[34m1\u001B[39;49;00m,\u001B[34m81\u001B[39;49;00m]) \u001B[34mfor\u001B[39;49;00m i \u001B[35min\u001B[39;49;00m digits]\n",
      "\n",
      "\u001B[34mdef\u001B[39;49;00m \u001B[32mmodel\u001B[39;49;00m(input_shape):\n",
      "    \u001B[37m# Define the input placeholder as a tensor with shape input_shape. Think of this as your input image!\u001B[39;49;00m\n",
      "    X_input = tf.keras.Input(input_shape)\n",
      "\n",
      "    \u001B[37m# Zero-Padding: pads the border of X_input with zeroes\u001B[39;49;00m\n",
      "    X = tf.keras.layers.ZeroPadding2D((\u001B[34m2\u001B[39;49;00m, \u001B[34m2\u001B[39;49;00m))(X_input)\n",
      "\n",
      "    \u001B[37m# CONV0 -> BN -> RELU -> MAXPOOL applied to X\u001B[39;49;00m\n",
      "    X = tf.keras.layers.Conv2D(\u001B[34m48\u001B[39;49;00m, (\u001B[34m5\u001B[39;49;00m, \u001B[34m5\u001B[39;49;00m), strides = (\u001B[34m1\u001B[39;49;00m, \u001B[34m1\u001B[39;49;00m), name = \u001B[33m'\u001B[39;49;00m\u001B[33mconv0\u001B[39;49;00m\u001B[33m'\u001B[39;49;00m)(X)\n",
      "    X = tf.keras.layers.BatchNormalization(axis = \u001B[34m3\u001B[39;49;00m, name = \u001B[33m'\u001B[39;49;00m\u001B[33mbn0\u001B[39;49;00m\u001B[33m'\u001B[39;49;00m)(X)\n",
      "    X = tf.keras.layers.Activation(\u001B[33m'\u001B[39;49;00m\u001B[33mrelu\u001B[39;49;00m\u001B[33m'\u001B[39;49;00m)(X)\n",
      "    X = tf.keras.layers.MaxPooling2D((\u001B[34m2\u001B[39;49;00m, \u001B[34m2\u001B[39;49;00m), strides = (\u001B[34m2\u001B[39;49;00m, \u001B[34m2\u001B[39;49;00m), name=\u001B[33m'\u001B[39;49;00m\u001B[33mmax_pool0\u001B[39;49;00m\u001B[33m'\u001B[39;49;00m)(X)\n",
      "\n",
      "    \u001B[37m# CONV1 -> BN -> RELU -> MAXPOOL applied to X\u001B[39;49;00m\n",
      "    X = tf.keras.layers.Conv2D(\u001B[34m64\u001B[39;49;00m, (\u001B[34m5\u001B[39;49;00m, \u001B[34m5\u001B[39;49;00m), strides = (\u001B[34m1\u001B[39;49;00m, \u001B[34m1\u001B[39;49;00m), name = \u001B[33m'\u001B[39;49;00m\u001B[33mconv1\u001B[39;49;00m\u001B[33m'\u001B[39;49;00m)(X)\n",
      "    X = tf.keras.layers.BatchNormalization(axis = \u001B[34m3\u001B[39;49;00m, name = \u001B[33m'\u001B[39;49;00m\u001B[33mbn1\u001B[39;49;00m\u001B[33m'\u001B[39;49;00m)(X)\n",
      "    X = tf.keras.layers.Activation(\u001B[33m'\u001B[39;49;00m\u001B[33mrelu\u001B[39;49;00m\u001B[33m'\u001B[39;49;00m)(X)\n",
      "    X = tf.keras.layers.MaxPooling2D((\u001B[34m1\u001B[39;49;00m, \u001B[34m2\u001B[39;49;00m), strides = (\u001B[34m2\u001B[39;49;00m, \u001B[34m2\u001B[39;49;00m), name=\u001B[33m'\u001B[39;49;00m\u001B[33mmax_pool1\u001B[39;49;00m\u001B[33m'\u001B[39;49;00m)(X)\n",
      "\n",
      "    \u001B[37m# CONV2 -> BN -> RELU -> MAXPOOL applied to X\u001B[39;49;00m\n",
      "    X = tf.keras.layers.Conv2D(\u001B[34m64\u001B[39;49;00m, (\u001B[34m5\u001B[39;49;00m, \u001B[34m5\u001B[39;49;00m), strides = (\u001B[34m1\u001B[39;49;00m, \u001B[34m1\u001B[39;49;00m), name = \u001B[33m'\u001B[39;49;00m\u001B[33mconv2\u001B[39;49;00m\u001B[33m'\u001B[39;49;00m)(X)\n",
      "    X = tf.keras.layers.BatchNormalization(axis = \u001B[34m3\u001B[39;49;00m, name = \u001B[33m'\u001B[39;49;00m\u001B[33mbn2\u001B[39;49;00m\u001B[33m'\u001B[39;49;00m)(X)\n",
      "    X = tf.keras.layers.Activation(\u001B[33m'\u001B[39;49;00m\u001B[33mrelu\u001B[39;49;00m\u001B[33m'\u001B[39;49;00m)(X)\n",
      "    X = tf.keras.layers.MaxPooling2D((\u001B[34m2\u001B[39;49;00m, \u001B[34m2\u001B[39;49;00m), strides = (\u001B[34m2\u001B[39;49;00m, \u001B[34m2\u001B[39;49;00m), name=\u001B[33m'\u001B[39;49;00m\u001B[33mmax_pool2\u001B[39;49;00m\u001B[33m'\u001B[39;49;00m)(X)\n",
      "\n",
      "    \u001B[37m# FLATTEN X (means convert it to a vector) + FULLYCONNECTED\u001B[39;49;00m\n",
      "    X = tf.keras.layers.Flatten()(X)\n",
      "\n",
      "    \u001B[37m#----------------------------------------------------------\u001B[39;49;00m\n",
      "    d1 = tf.keras.layers.Dense(\u001B[34m81\u001B[39;49;00m, activation=\u001B[33m'\u001B[39;49;00m\u001B[33msoftmax\u001B[39;49;00m\u001B[33m'\u001B[39;49;00m, name=\u001B[33m'\u001B[39;49;00m\u001B[33md1\u001B[39;49;00m\u001B[33m'\u001B[39;49;00m)(X)\n",
      "    d2 = tf.keras.layers.Dense(\u001B[34m81\u001B[39;49;00m, activation=\u001B[33m'\u001B[39;49;00m\u001B[33msoftmax\u001B[39;49;00m\u001B[33m'\u001B[39;49;00m, name=\u001B[33m'\u001B[39;49;00m\u001B[33md2\u001B[39;49;00m\u001B[33m'\u001B[39;49;00m)(X)\n",
      "    d3 = tf.keras.layers.Dense(\u001B[34m81\u001B[39;49;00m, activation=\u001B[33m'\u001B[39;49;00m\u001B[33msoftmax\u001B[39;49;00m\u001B[33m'\u001B[39;49;00m, name=\u001B[33m'\u001B[39;49;00m\u001B[33md3\u001B[39;49;00m\u001B[33m'\u001B[39;49;00m)(X)\n",
      "    d4 = tf.keras.layers.Dense(\u001B[34m81\u001B[39;49;00m, activation=\u001B[33m'\u001B[39;49;00m\u001B[33msoftmax\u001B[39;49;00m\u001B[33m'\u001B[39;49;00m, name=\u001B[33m'\u001B[39;49;00m\u001B[33md4\u001B[39;49;00m\u001B[33m'\u001B[39;49;00m)(X)\n",
      "    d5 = tf.keras.layers.Dense(\u001B[34m81\u001B[39;49;00m, activation=\u001B[33m'\u001B[39;49;00m\u001B[33msoftmax\u001B[39;49;00m\u001B[33m'\u001B[39;49;00m, name=\u001B[33m'\u001B[39;49;00m\u001B[33md5\u001B[39;49;00m\u001B[33m'\u001B[39;49;00m)(X)\n",
      "    d6 = tf.keras.layers.Dense(\u001B[34m81\u001B[39;49;00m, activation=\u001B[33m'\u001B[39;49;00m\u001B[33msoftmax\u001B[39;49;00m\u001B[33m'\u001B[39;49;00m, name=\u001B[33m'\u001B[39;49;00m\u001B[33md6\u001B[39;49;00m\u001B[33m'\u001B[39;49;00m)(X)\n",
      "    d7 = tf.keras.layers.Dense(\u001B[34m81\u001B[39;49;00m, activation=\u001B[33m'\u001B[39;49;00m\u001B[33msoftmax\u001B[39;49;00m\u001B[33m'\u001B[39;49;00m, name=\u001B[33m'\u001B[39;49;00m\u001B[33md7\u001B[39;49;00m\u001B[33m'\u001B[39;49;00m)(X)\n",
      "    \n",
      "    model = tf.keras.Model(inputs = X_input, \n",
      "                  outputs = [d1,d2,d3,d4,d5,d6,d7],\n",
      "                  name=\u001B[33m'\u001B[39;49;00m\u001B[33mCNN_ANPR\u001B[39;49;00m\u001B[33m'\u001B[39;49;00m)\n",
      "\n",
      "    \u001B[34mreturn\u001B[39;49;00m model\n",
      "\n",
      "\u001B[34mif\u001B[39;49;00m \u001B[31m__name__\u001B[39;49;00m == \u001B[33m\"\u001B[39;49;00m\u001B[33m__main__\u001B[39;49;00m\u001B[33m\"\u001B[39;49;00m:\n",
      "\n",
      "    args, _ = parse_args()\n",
      "    \u001B[36mprint\u001B[39;49;00m(\u001B[33m'\u001B[39;49;00m\u001B[33margs test: learning_rate = \u001B[39;49;00m\u001B[33m{}\u001B[39;49;00m\u001B[33m, batch_size = \u001B[39;49;00m\u001B[33m{}\u001B[39;49;00m\u001B[33m, epochs = \u001B[39;49;00m\u001B[33m{}\u001B[39;49;00m\u001B[33m'\u001B[39;49;00m.format(args.learning_rate, args.batch_size, args.epochs))\n",
      "    \u001B[36mprint\u001B[39;49;00m(args)\n",
      "    \n",
      "    \u001B[37m# change the path to use '/opt/ml/input/data/{channel}/...'\u001B[39;49;00m\n",
      "    t_imgs, t_annotations = get_data_pair(args.train, args.train_annotation)\n",
      "    v_imgs, v_annotations = get_data_pair(args.validation, args.validation_annotation)\n",
      "    \n",
      "    input_shape = (\u001B[34m128\u001B[39;49;00m,\u001B[34m64\u001B[39;49;00m,\u001B[34m1\u001B[39;49;00m)\n",
      "    model_k = model(input_shape)\n",
      "        \n",
      "    \u001B[37m# use hyperparameters ex) args.learning_rate\u001B[39;49;00m\n",
      "    model_k.compile(optimizer=tf.train.AdamOptimizer(args.learning_rate), \n",
      "            loss=[\u001B[33m'\u001B[39;49;00m\u001B[33mcategorical_crossentropy\u001B[39;49;00m\u001B[33m'\u001B[39;49;00m,\u001B[33m'\u001B[39;49;00m\u001B[33mcategorical_crossentropy\u001B[39;49;00m\u001B[33m'\u001B[39;49;00m,\u001B[33m'\u001B[39;49;00m\u001B[33mcategorical_crossentropy\u001B[39;49;00m\u001B[33m'\u001B[39;49;00m,\u001B[33m'\u001B[39;49;00m\u001B[33mcategorical_crossentropy\u001B[39;49;00m\u001B[33m'\u001B[39;49;00m,\n",
      "                   \u001B[33m'\u001B[39;49;00m\u001B[33mcategorical_crossentropy\u001B[39;49;00m\u001B[33m'\u001B[39;49;00m,\u001B[33m'\u001B[39;49;00m\u001B[33mcategorical_crossentropy\u001B[39;49;00m\u001B[33m'\u001B[39;49;00m,\u001B[33m'\u001B[39;49;00m\u001B[33mcategorical_crossentropy\u001B[39;49;00m\u001B[33m'\u001B[39;49;00m],\n",
      "            metrics = [\u001B[33m\"\u001B[39;49;00m\u001B[33maccuracy\u001B[39;49;00m\u001B[33m\"\u001B[39;49;00m])\n",
      "        \n",
      "    \u001B[37m# use hyperparameters ex) args.epochs, args.batch_size, etc.\u001B[39;49;00m\n",
      "    model_k.fit(t_imgs, [i.reshape([-\u001B[34m1\u001B[39;49;00m,\u001B[34m81\u001B[39;49;00m]) \u001B[34mfor\u001B[39;49;00m i \u001B[35min\u001B[39;49;00m t_annotations], \n",
      "        validation_data=(v_imgs, [i.reshape([-\u001B[34m1\u001B[39;49;00m,\u001B[34m81\u001B[39;49;00m]) \u001B[34mfor\u001B[39;49;00m i \u001B[35min\u001B[39;49;00m v_annotations]), \n",
      "        epochs=args.epochs, batch_size=args.batch_size, verbose=args.verbose)\n",
      "        \n",
      "    scores = model_k.evaluate(v_imgs, [i \u001B[34mfor\u001B[39;49;00m i \u001B[35min\u001B[39;49;00m v_annotations], batch_size=args.batch_size, verbose=\u001B[34m1\u001B[39;49;00m, sample_weight=\u001B[34mNone\u001B[39;49;00m)\n",
      "    \u001B[36mprint\u001B[39;49;00m(\u001B[33m\"\u001B[39;49;00m\u001B[33mscores: \u001B[39;49;00m\u001B[33m\"\u001B[39;49;00m, scores)\n",
      "    \n",
      "    \u001B[37m# save checkpoint for locally loading in notebook\u001B[39;49;00m\n",
      "    saver = tfe.Saver(model_k.variables)\n",
      "    saver.save(args.model_dir + \u001B[33m'\u001B[39;49;00m\u001B[33m/weights.ckpt\u001B[39;49;00m\u001B[33m'\u001B[39;49;00m)\n",
      "    \n",
      "    \u001B[37m# create a separate SavedModel for deployment to a SageMaker endpoint with TensorFlow Serving\u001B[39;49;00m\n",
      "    tf.contrib.saved_model.save_keras_model(model_k, args.model_dir)\n",
      "\n",
      "            \n"
     ]
    }
   ],
   "source": [
    "!pygmentize cnn_ocr.py"
   ]
  },
  {
   "cell_type": "markdown",
   "metadata": {},
   "source": [
    "## Run training job\n",
    "* **This time, we will run 30 epochs. (It may take around 15 minutes)**\n",
    "* Note that we use p3.2xlarge instance, which will shorten our training time with GPU. \n",
    "* To see the detailed message of training job, set the verobose to 1(true)."
   ]
  },
  {
   "cell_type": "code",
   "execution_count": 11,
   "metadata": {},
   "outputs": [],
   "source": [
    "model_dir = '/opt/ml/model'\n",
    "train_instance_type='ml.p3.2xlarge'\n",
    "hyperparameters = {'epochs': 30, \n",
    "                   'batch_size': 128,\n",
    "                   'learning_rate': 0.001,\n",
    "                   'verbose': 0}"
   ]
  },
  {
   "cell_type": "code",
   "execution_count": 12,
   "metadata": {},
   "outputs": [],
   "source": [
    "ocr_estimator = TensorFlow(\n",
    "    entry_point='cnn_ocr.py',\n",
    "    dependencies=['constants.py'],\n",
    "    role=role,\n",
    "    model_dir=model_dir,\n",
    "    hyperparameters=hyperparameters,\n",
    "    train_instance_count=1,\n",
    "    train_instance_type=train_instance_type,\n",
    "    framework_version='1.12',\n",
    "    py_version='py3'\n",
    ")"
   ]
  },
  {
   "cell_type": "markdown",
   "metadata": {},
   "source": [
    "* Run your training job.\n",
    "* You will find the below command from the job log.  \n",
    "```/usr/bin/python cnn_ocr.py --batch_size 128 --epochs 30 --learning_rate 0.001 --model_dir /opt/ml/model --verbose 0```"
   ]
  },
  {
   "cell_type": "code",
   "execution_count": null,
   "metadata": {},
   "outputs": [
    {
     "name": "stdout",
     "output_type": "stream",
     "text": [
      "2019-12-07 07:15:35 Starting - Starting the training job...\n",
      "2019-12-07 07:15:36 Starting - Launching requested ML instances...\n",
      "2019-12-07 07:16:33 Starting - Preparing the instances for training......\n",
      "2019-12-07 07:17:27 Downloading - Downloading input data............\n",
      "2019-12-07 07:19:27 Training - Training image download completed. Training in progress..\u001B[31m2019-12-07 07:19:32,066 sagemaker-containers INFO     Imported framework sagemaker_tensorflow_container.training\u001B[0m\n",
      "\u001B[31m2019-12-07 07:19:32,462 sagemaker-containers INFO     Invoking user script\n",
      "\u001B[0m\n",
      "\u001B[31mTraining Env:\n",
      "\u001B[0m\n",
      "\u001B[31m{\n",
      "    \"additional_framework_parameters\": {},\n",
      "    \"channel_input_dirs\": {\n",
      "        \"validation_annotation\": \"/opt/ml/input/data/validation_annotation\",\n",
      "        \"train_annotation\": \"/opt/ml/input/data/train_annotation\",\n",
      "        \"validation\": \"/opt/ml/input/data/validation\",\n",
      "        \"train\": \"/opt/ml/input/data/train\"\n",
      "    },\n",
      "    \"current_host\": \"algo-1\",\n",
      "    \"framework_module\": \"sagemaker_tensorflow_container.training:main\",\n",
      "    \"hosts\": [\n",
      "        \"algo-1\"\n",
      "    ],\n",
      "    \"hyperparameters\": {\n",
      "        \"batch_size\": 128,\n",
      "        \"model_dir\": \"/opt/ml/model\",\n",
      "        \"epochs\": 30,\n",
      "        \"learning_rate\": 0.001,\n",
      "        \"verbose\": 0\n",
      "    },\n",
      "    \"input_config_dir\": \"/opt/ml/input/config\",\n",
      "    \"input_data_config\": {\n",
      "        \"validation_annotation\": {\n",
      "            \"ContentType\": \"application/json\",\n",
      "            \"TrainingInputMode\": \"File\",\n",
      "            \"S3DistributionType\": \"FullyReplicated\",\n",
      "            \"RecordWrapperType\": \"None\"\n",
      "        },\n",
      "        \"train_annotation\": {\n",
      "            \"ContentType\": \"application/json\",\n",
      "            \"TrainingInputMode\": \"File\",\n",
      "            \"S3DistributionType\": \"FullyReplicated\",\n",
      "            \"RecordWrapperType\": \"None\"\n",
      "        },\n",
      "        \"validation\": {\n",
      "            \"ContentType\": \"image/png\",\n",
      "            \"TrainingInputMode\": \"File\",\n",
      "            \"S3DistributionType\": \"FullyReplicated\",\n",
      "            \"RecordWrapperType\": \"None\"\n",
      "        },\n",
      "        \"train\": {\n",
      "            \"ContentType\": \"image/png\",\n",
      "            \"TrainingInputMode\": \"File\",\n",
      "            \"S3DistributionType\": \"FullyReplicated\",\n",
      "            \"RecordWrapperType\": \"None\"\n",
      "        }\n",
      "    },\n",
      "    \"input_dir\": \"/opt/ml/input\",\n",
      "    \"is_master\": true,\n",
      "    \"job_name\": \"sagemaker-tensorflow-scriptmode-2019-12-07-07-15-34-458\",\n",
      "    \"log_level\": 20,\n",
      "    \"master_hostname\": \"algo-1\",\n",
      "    \"model_dir\": \"/opt/ml/model\",\n",
      "    \"module_dir\": \"s3://sagemaker-us-east-2-308961792850/sagemaker-tensorflow-scriptmode-2019-12-07-07-15-34-458/source/sourcedir.tar.gz\",\n",
      "    \"module_name\": \"cnn_ocr\",\n",
      "    \"network_interface_name\": \"eth0\",\n",
      "    \"num_cpus\": 8,\n",
      "    \"num_gpus\": 1,\n",
      "    \"output_data_dir\": \"/opt/ml/output/data\",\n",
      "    \"output_dir\": \"/opt/ml/output\",\n",
      "    \"output_intermediate_dir\": \"/opt/ml/output/intermediate\",\n",
      "    \"resource_config\": {\n",
      "        \"current_host\": \"algo-1\",\n",
      "        \"hosts\": [\n",
      "            \"algo-1\"\n",
      "        ],\n",
      "        \"network_interface_name\": \"eth0\"\n",
      "    },\n",
      "    \"user_entry_point\": \"cnn_ocr.py\"\u001B[0m\n",
      "\u001B[31m}\n",
      "\u001B[0m\n",
      "\u001B[31mEnvironment variables:\n",
      "\u001B[0m\n",
      "\u001B[31mSM_HOSTS=[\"algo-1\"]\u001B[0m\n",
      "\u001B[31mSM_NETWORK_INTERFACE_NAME=eth0\u001B[0m\n",
      "\u001B[31mSM_HPS={\"batch_size\":128,\"epochs\":30,\"learning_rate\":0.001,\"model_dir\":\"/opt/ml/model\",\"verbose\":0}\u001B[0m\n",
      "\u001B[31mSM_USER_ENTRY_POINT=cnn_ocr.py\u001B[0m\n",
      "\u001B[31mSM_FRAMEWORK_PARAMS={}\u001B[0m\n",
      "\u001B[31mSM_RESOURCE_CONFIG={\"current_host\":\"algo-1\",\"hosts\":[\"algo-1\"],\"network_interface_name\":\"eth0\"}\u001B[0m\n",
      "\u001B[31mSM_INPUT_DATA_CONFIG={\"train\":{\"ContentType\":\"image/png\",\"RecordWrapperType\":\"None\",\"S3DistributionType\":\"FullyReplicated\",\"TrainingInputMode\":\"File\"},\"train_annotation\":{\"ContentType\":\"application/json\",\"RecordWrapperType\":\"None\",\"S3DistributionType\":\"FullyReplicated\",\"TrainingInputMode\":\"File\"},\"validation\":{\"ContentType\":\"image/png\",\"RecordWrapperType\":\"None\",\"S3DistributionType\":\"FullyReplicated\",\"TrainingInputMode\":\"File\"},\"validation_annotation\":{\"ContentType\":\"application/json\",\"RecordWrapperType\":\"None\",\"S3DistributionType\":\"FullyReplicated\",\"TrainingInputMode\":\"File\"}}\u001B[0m\n",
      "\u001B[31mSM_OUTPUT_DATA_DIR=/opt/ml/output/data\u001B[0m\n",
      "\u001B[31mSM_CHANNELS=[\"train\",\"train_annotation\",\"validation\",\"validation_annotation\"]\u001B[0m\n",
      "\u001B[31mSM_CURRENT_HOST=algo-1\u001B[0m\n",
      "\u001B[31mSM_MODULE_NAME=cnn_ocr\u001B[0m\n",
      "\u001B[31mSM_LOG_LEVEL=20\u001B[0m\n",
      "\u001B[31mSM_FRAMEWORK_MODULE=sagemaker_tensorflow_container.training:main\u001B[0m\n",
      "\u001B[31mSM_INPUT_DIR=/opt/ml/input\u001B[0m\n",
      "\u001B[31mSM_INPUT_CONFIG_DIR=/opt/ml/input/config\u001B[0m\n",
      "\u001B[31mSM_OUTPUT_DIR=/opt/ml/output\u001B[0m\n",
      "\u001B[31mSM_NUM_CPUS=8\u001B[0m\n",
      "\u001B[31mSM_NUM_GPUS=1\u001B[0m\n",
      "\u001B[31mSM_MODEL_DIR=/opt/ml/model\u001B[0m\n",
      "\u001B[31mSM_MODULE_DIR=s3://sagemaker-us-east-2-308961792850/sagemaker-tensorflow-scriptmode-2019-12-07-07-15-34-458/source/sourcedir.tar.gz\u001B[0m\n",
      "\u001B[31mSM_TRAINING_ENV={\"additional_framework_parameters\":{},\"channel_input_dirs\":{\"train\":\"/opt/ml/input/data/train\",\"train_annotation\":\"/opt/ml/input/data/train_annotation\",\"validation\":\"/opt/ml/input/data/validation\",\"validation_annotation\":\"/opt/ml/input/data/validation_annotation\"},\"current_host\":\"algo-1\",\"framework_module\":\"sagemaker_tensorflow_container.training:main\",\"hosts\":[\"algo-1\"],\"hyperparameters\":{\"batch_size\":128,\"epochs\":30,\"learning_rate\":0.001,\"model_dir\":\"/opt/ml/model\",\"verbose\":0},\"input_config_dir\":\"/opt/ml/input/config\",\"input_data_config\":{\"train\":{\"ContentType\":\"image/png\",\"RecordWrapperType\":\"None\",\"S3DistributionType\":\"FullyReplicated\",\"TrainingInputMode\":\"File\"},\"train_annotation\":{\"ContentType\":\"application/json\",\"RecordWrapperType\":\"None\",\"S3DistributionType\":\"FullyReplicated\",\"TrainingInputMode\":\"File\"},\"validation\":{\"ContentType\":\"image/png\",\"RecordWrapperType\":\"None\",\"S3DistributionType\":\"FullyReplicated\",\"TrainingInputMode\":\"File\"},\"validation_annotation\":{\"ContentType\":\"application/json\",\"RecordWrapperType\":\"None\",\"S3DistributionType\":\"FullyReplicated\",\"TrainingInputMode\":\"File\"}},\"input_dir\":\"/opt/ml/input\",\"is_master\":true,\"job_name\":\"sagemaker-tensorflow-scriptmode-2019-12-07-07-15-34-458\",\"log_level\":20,\"master_hostname\":\"algo-1\",\"model_dir\":\"/opt/ml/model\",\"module_dir\":\"s3://sagemaker-us-east-2-308961792850/sagemaker-tensorflow-scriptmode-2019-12-07-07-15-34-458/source/sourcedir.tar.gz\",\"module_name\":\"cnn_ocr\",\"network_interface_name\":\"eth0\",\"num_cpus\":8,\"num_gpus\":1,\"output_data_dir\":\"/opt/ml/output/data\",\"output_dir\":\"/opt/ml/output\",\"output_intermediate_dir\":\"/opt/ml/output/intermediate\",\"resource_config\":{\"current_host\":\"algo-1\",\"hosts\":[\"algo-1\"],\"network_interface_name\":\"eth0\"},\"user_entry_point\":\"cnn_ocr.py\"}\u001B[0m\n",
      "\u001B[31mSM_USER_ARGS=[\"--batch_size\",\"128\",\"--epochs\",\"30\",\"--learning_rate\",\"0.001\",\"--model_dir\",\"/opt/ml/model\",\"--verbose\",\"0\"]\u001B[0m\n",
      "\u001B[31mSM_OUTPUT_INTERMEDIATE_DIR=/opt/ml/output/intermediate\u001B[0m\n",
      "\u001B[31mSM_CHANNEL_VALIDATION_ANNOTATION=/opt/ml/input/data/validation_annotation\u001B[0m\n",
      "\u001B[31mSM_CHANNEL_TRAIN_ANNOTATION=/opt/ml/input/data/train_annotation\u001B[0m\n",
      "\u001B[31mSM_CHANNEL_VALIDATION=/opt/ml/input/data/validation\u001B[0m\n",
      "\u001B[31mSM_CHANNEL_TRAIN=/opt/ml/input/data/train\u001B[0m\n",
      "\u001B[31mSM_HP_BATCH_SIZE=128\u001B[0m\n",
      "\u001B[31mSM_HP_MODEL_DIR=/opt/ml/model\u001B[0m\n",
      "\u001B[31mSM_HP_EPOCHS=30\u001B[0m\n",
      "\u001B[31mSM_HP_LEARNING_RATE=0.001\u001B[0m\n",
      "\u001B[31mSM_HP_VERBOSE=0\u001B[0m\n",
      "\u001B[31mPYTHONPATH=/opt/ml/code:/usr/local/bin:/usr/lib/python36.zip:/usr/lib/python3.6:/usr/lib/python3.6/lib-dynload:/usr/local/lib/python3.6/dist-packages:/usr/lib/python3/dist-packages\n",
      "\u001B[0m\n",
      "\u001B[31mInvoking script with the following command:\n",
      "\u001B[0m\n",
      "\u001B[31m/usr/bin/python cnn_ocr.py --batch_size 128 --epochs 30 --learning_rate 0.001 --model_dir /opt/ml/model --verbose 0\n",
      "\n",
      "\u001B[0m\n",
      "\u001B[31mUsing TensorFlow backend.\u001B[0m\n",
      "\u001B[31margs test: learning_rate = 0.001, batch_size = 128, epochs = 30\u001B[0m\n",
      "\u001B[31mNamespace(batch_size=128, epochs=30, learning_rate=0.001, model_dir='/opt/ml/model', train='/opt/ml/input/data/train', train_annotation='/opt/ml/input/data/train_annotation', validation='/opt/ml/input/data/validation', validation_annotation='/opt/ml/input/data/validation_annotation', verbose=0)\u001B[0m\n"
     ]
    }
   ],
   "source": [
    "%%time\n",
    "ocr_estimator.fit(data_channels, logs=True)"
   ]
  },
  {
   "cell_type": "markdown",
   "metadata": {},
   "source": [
    "* Check the model name that training job just created\n",
    "* Check the model file that training job just created"
   ]
  },
  {
   "cell_type": "code",
   "execution_count": null,
   "metadata": {},
   "outputs": [],
   "source": [
    "print(ocr_estimator.output_path)\n",
    "print(ocr_estimator.model_data)\n",
    "\n",
    "!aws s3 ls {ocr_estimator.model_data}"
   ]
  },
  {
   "cell_type": "code",
   "execution_count": null,
   "metadata": {},
   "outputs": [],
   "source": []
  },
  {
   "cell_type": "markdown",
   "metadata": {},
   "source": [
    "## Deploy the model and inference Test"
   ]
  },
  {
   "cell_type": "markdown",
   "metadata": {},
   "source": [
    "* Now, let's deploy our model into SageMaker's inference hosting environment "
   ]
  },
  {
   "cell_type": "code",
   "execution_count": null,
   "metadata": {},
   "outputs": [],
   "source": [
    "predictor = ocr_estimator.deploy(initial_instance_count=1,\n",
    "                                 instance_type='ml.m4.xlarge',\n",
    "                                 accelerator_type='ml.eia1.medium')"
   ]
  },
  {
   "cell_type": "markdown",
   "metadata": {},
   "source": [
    "* Check the result of deploy"
   ]
  },
  {
   "cell_type": "code",
   "execution_count": null,
   "metadata": {},
   "outputs": [],
   "source": [
    "predictor.endpoint"
   ]
  },
  {
   "cell_type": "markdown",
   "metadata": {},
   "source": [
    "## Test data"
   ]
  },
  {
   "cell_type": "markdown",
   "metadata": {},
   "source": [
    "* Prepare character list and test images"
   ]
  },
  {
   "cell_type": "code",
   "execution_count": null,
   "metadata": {},
   "outputs": [],
   "source": [
    "import numpy as np\n",
    "import matplotlib.pyplot as plt"
   ]
  },
  {
   "cell_type": "code",
   "execution_count": null,
   "metadata": {},
   "outputs": [],
   "source": [
    "from constants import JOIN"
   ]
  },
  {
   "cell_type": "code",
   "execution_count": null,
   "metadata": {},
   "outputs": [],
   "source": [
    "test_imgs = os.listdir('tf/tf-validation')"
   ]
  },
  {
   "cell_type": "markdown",
   "metadata": {},
   "source": [
    "* Check the prediction of 10 sample pairs of images"
   ]
  },
  {
   "cell_type": "code",
   "execution_count": null,
   "metadata": {},
   "outputs": [],
   "source": [
    "for i in range(10):\n",
    "    val_img = Image.open('tf/tf-validation/' + test_imgs[i])\n",
    "    val_img_np = np.array(val_img.resize((128,64)))\n",
    "    input = {\n",
    "      'instances': val_img_np.reshape([1,128,64,1])/255.\n",
    "    }\n",
    "    prediction = predictor.predict(input)\n",
    "    plt.imshow(val_img)\n",
    "    plt.show()\n",
    "    print(i)\n",
    "    digits = [JOIN[np.argmax(prediction['predictions'][0]['d1'])], \n",
    "              JOIN[np.argmax(prediction['predictions'][0]['d2'])], \n",
    "              JOIN[np.argmax(prediction['predictions'][0]['d3'])], \n",
    "              JOIN[np.argmax(prediction['predictions'][0]['d4'])], \n",
    "              JOIN[np.argmax(prediction['predictions'][0]['d5'])],  \n",
    "              JOIN[np.argmax(prediction['predictions'][0]['d6'])], \n",
    "              JOIN[np.argmax(prediction['predictions'][0]['d7'])]]\n",
    "    print(digits)"
   ]
  },
  {
   "cell_type": "markdown",
   "metadata": {},
   "source": [
    "## Endpoint API test"
   ]
  },
  {
   "cell_type": "markdown",
   "metadata": {},
   "source": [
    "* You may invoke SageMaker endpoint from business application as below:"
   ]
  },
  {
   "cell_type": "code",
   "execution_count": null,
   "metadata": {},
   "outputs": [],
   "source": [
    "import boto3\n",
    "from sagemaker.predictor import json_serializer, json_deserializer, RealTimePredictor\n",
    "from sagemaker.content_types import CONTENT_TYPE_CSV, CONTENT_TYPE_JSON\n",
    "runtime = boto3.Session().client('runtime.sagemaker')\n",
    "tf_endpoint = predictor.endpoint"
   ]
  },
  {
   "cell_type": "code",
   "execution_count": null,
   "metadata": {},
   "outputs": [],
   "source": [
    "api_predictor = RealTimePredictor(endpoint=tf_endpoint, sagemaker_session=sess, serializer=json_serializer,\n",
    "                                content_type=CONTENT_TYPE_JSON, accept=CONTENT_TYPE_CSV)\n",
    "api_response = json.loads(api_predictor.predict(input))\n",
    "print(JOIN[np.argmax(api_response['predictions'][0]['d1'])] +\n",
    "      JOIN[np.argmax(api_response['predictions'][0]['d2'])] +\n",
    "      JOIN[np.argmax(api_response['predictions'][0]['d3'])] +\n",
    "      JOIN[np.argmax(api_response['predictions'][0]['d4'])] +\n",
    "      JOIN[np.argmax(api_response['predictions'][0]['d5'])] +\n",
    "      JOIN[np.argmax(api_response['predictions'][0]['d6'])] +\n",
    "      JOIN[np.argmax(api_response['predictions'][0]['d7'])] )"
   ]
  },
  {
   "cell_type": "markdown",
   "metadata": {},
   "source": [
    "## Test the trainned model in local (Optional)\n",
    "Let's extport your trained model from S3 and deploy it to local (this notebook). "
   ]
  },
  {
   "cell_type": "markdown",
   "metadata": {},
   "source": [
    "* Copy trainned model from S3 to ./model folder"
   ]
  },
  {
   "cell_type": "code",
   "execution_count": 29,
   "metadata": {},
   "outputs": [
    {
     "name": "stdout",
     "output_type": "stream",
     "text": []
    },
    {
     "name": "stdout",
     "output_type": "stream",
     "text": []
    },
    {
     "name": "stdout",
     "output_type": "stream",
     "text": []
    },
    {
     "name": "stdout",
     "output_type": "stream",
     "text": []
    },
    {
     "name": "stdout",
     "output_type": "stream",
     "text": []
    },
    {
     "name": "stdout",
     "output_type": "stream",
     "text": []
    },
    {
     "name": "stdout",
     "output_type": "stream",
     "text": [
      "download: s3://sagemaker-us-east-1-308961792850/sagemaker-tensorflow-scriptmode-2019-06-06-08-57-04-100/output/model.tar.gz to model/model.tar.gz\n"
     ]
    }
   ],
   "source": [
    "#!rm -Rf model\n",
    "!aws s3 cp {ocr_estimator.model_data} ./model/model.tar.gz --region {sess.boto_region_name}"
   ]
  },
  {
   "cell_type": "markdown",
   "metadata": {},
   "source": [
    "* Extract the model file and see the components"
   ]
  },
  {
   "cell_type": "code",
   "execution_count": 30,
   "metadata": {},
   "outputs": [
    {
     "name": "stdout",
     "output_type": "stream",
     "text": [
      "weights.ckpt.data-00000-of-00001\n",
      "checkpoint\n",
      "weights.ckpt.index\n",
      "1559812084/\n",
      "1559812084/saved_model.pb\n",
      "1559812084/assets/\n",
      "1559812084/assets/saved_model.json\n",
      "1559812084/variables/\n",
      "1559812084/variables/checkpoint\n",
      "1559812084/variables/variables.index\n",
      "1559812084/variables/variables.data-00000-of-00001\n"
     ]
    }
   ],
   "source": [
    "!tar -xvzf ./model/model.tar.gz -C ./model"
   ]
  },
  {
   "cell_type": "markdown",
   "metadata": {},
   "source": [
    "* Define model architecture locally (same as Lab2)"
   ]
  },
  {
   "cell_type": "code",
   "execution_count": 31,
   "metadata": {},
   "outputs": [],
   "source": [
    "def model(input_shape):\n",
    "    # Define the input placeholder as a tensor with shape input_shape. Think of this as your input image!\n",
    "    X_input = tf.keras.Input(input_shape)\n",
    "\n",
    "    # Zero-Padding: pads the border of X_input with zeroes\n",
    "    X = tf.keras.layers.ZeroPadding2D((2, 2))(X_input)\n",
    "\n",
    "    # CONV0 -> BN -> RELU -> MAXPOOL applied to X\n",
    "    X = tf.keras.layers.Conv2D(48, (5, 5), strides = (1, 1), name = 'conv0')(X)\n",
    "    X = tf.keras.layers.BatchNormalization(axis = 3, name = 'bn0')(X)\n",
    "    X = tf.keras.layers.Activation('relu')(X)\n",
    "    X = tf.keras.layers.MaxPooling2D((2, 2), strides = (2, 2), name='max_pool0')(X)\n",
    "\n",
    "    # CONV1 -> BN -> RELU -> MAXPOOL applied to X\n",
    "    X = tf.keras.layers.Conv2D(64, (5, 5), strides = (1, 1), name = 'conv1')(X)\n",
    "    X = tf.keras.layers.BatchNormalization(axis = 3, name = 'bn1')(X)\n",
    "    X = tf.keras.layers.Activation('relu')(X)\n",
    "    X = tf.keras.layers.MaxPooling2D((1, 2), strides = (2, 2), name='max_pool1')(X)\n",
    "\n",
    "    # CONV2 -> BN -> RELU -> MAXPOOL applied to X\n",
    "    X = tf.keras.layers.Conv2D(64, (5, 5), strides = (1, 1), name = 'conv2')(X)\n",
    "    X = tf.keras.layers.BatchNormalization(axis = 3, name = 'bn2')(X)\n",
    "    X = tf.keras.layers.Activation('relu')(X)\n",
    "    X = tf.keras.layers.MaxPooling2D((2, 2), strides = (2, 2), name='max_pool2')(X)\n",
    "\n",
    "    # FLATTEN X (means convert it to a vector) + FULLYCONNECTED\n",
    "    X = tf.keras.layers.Flatten()(X)\n",
    "    #----------------------------------------------------------\n",
    "    d1 = tf.keras.layers.Dense(81, activation='softmax', name='d1')(X)\n",
    "    d2 = tf.keras.layers.Dense(81, activation='softmax', name='d2')(X)\n",
    "    d3 = tf.keras.layers.Dense(81, activation='softmax', name='d3')(X)\n",
    "    d4 = tf.keras.layers.Dense(81, activation='softmax', name='d4')(X)\n",
    "    d5 = tf.keras.layers.Dense(81, activation='softmax', name='d5')(X)\n",
    "    d6 = tf.keras.layers.Dense(81, activation='softmax', name='d6')(X)\n",
    "    d7 = tf.keras.layers.Dense(81, activation='softmax', name='d7')(X)\n",
    "    \n",
    "    model = tf.keras.Model(inputs = X_input, \n",
    "                  outputs = [d1,d2,d3,d4,d5,d6,d7],\n",
    "                  name='CNN_ANPR')\n",
    "\n",
    "    return model"
   ]
  },
  {
   "cell_type": "markdown",
   "metadata": {},
   "source": [
    "* Read and retore model from downloaded checkpoint"
   ]
  },
  {
   "cell_type": "code",
   "execution_count": 32,
   "metadata": {},
   "outputs": [
    {
     "name": "stdout",
     "output_type": "stream",
     "text": [
      "WARNING:tensorflow:From /home/ec2-user/anaconda3/envs/tensorflow_p36/lib/python3.6/site-packages/tensorflow/python/ops/resource_variable_ops.py:642: colocate_with (from tensorflow.python.framework.ops) is deprecated and will be removed in a future version.\n",
      "Instructions for updating:\n",
      "Colocations handled automatically by placer.\n"
     ]
    },
    {
     "name": "stderr",
     "output_type": "stream",
     "text": [
      "WARNING:tensorflow:From /home/ec2-user/anaconda3/envs/tensorflow_p36/lib/python3.6/site-packages/tensorflow/python/ops/resource_variable_ops.py:642: colocate_with (from tensorflow.python.framework.ops) is deprecated and will be removed in a future version.\n",
      "Instructions for updating:\n",
      "Colocations handled automatically by placer.\n"
     ]
    },
    {
     "name": "stdout",
     "output_type": "stream",
     "text": [
      "WARNING:tensorflow:Saver is deprecated, please switch to tf.train.Checkpoint or tf.keras.Model.save_weights for training checkpoints. When executing eagerly variables do not necessarily have unique names, and so the variable.name-based lookups Saver performs are error-prone.\n"
     ]
    },
    {
     "name": "stderr",
     "output_type": "stream",
     "text": [
      "WARNING:tensorflow:Saver is deprecated, please switch to tf.train.Checkpoint or tf.keras.Model.save_weights for training checkpoints. When executing eagerly variables do not necessarily have unique names, and so the variable.name-based lookups Saver performs are error-prone.\n"
     ]
    },
    {
     "name": "stdout",
     "output_type": "stream",
     "text": [
      "WARNING:tensorflow:From /home/ec2-user/anaconda3/envs/tensorflow_p36/lib/python3.6/site-packages/tensorflow/python/training/saver.py:1272: checkpoint_exists (from tensorflow.python.training.checkpoint_management) is deprecated and will be removed in a future version.\n",
      "Instructions for updating:\n",
      "Use standard file APIs to check for files with this prefix.\n"
     ]
    },
    {
     "name": "stderr",
     "output_type": "stream",
     "text": [
      "WARNING:tensorflow:From /home/ec2-user/anaconda3/envs/tensorflow_p36/lib/python3.6/site-packages/tensorflow/python/training/saver.py:1272: checkpoint_exists (from tensorflow.python.training.checkpoint_management) is deprecated and will be removed in a future version.\n",
      "Instructions for updating:\n",
      "Use standard file APIs to check for files with this prefix.\n"
     ]
    },
    {
     "name": "stdout",
     "output_type": "stream",
     "text": [
      "INFO:tensorflow:Restoring parameters from model/weights.ckpt\n"
     ]
    },
    {
     "name": "stderr",
     "output_type": "stream",
     "text": [
      "INFO:tensorflow:Restoring parameters from model/weights.ckpt\n"
     ]
    }
   ],
   "source": [
    "tf.keras.backend.clear_session()\n",
    "\n",
    "local_model = model((128,64,1))\n",
    "saver = tfe.Saver(local_model.variables)\n",
    "saver.restore('model/weights.ckpt')"
   ]
  },
  {
   "cell_type": "code",
   "execution_count": 33,
   "metadata": {},
   "outputs": [
    {
     "data": {
      "image/png": "[encoded data removed]",
      "text/plain": [
       "<Figure size 432x288 with 1 Axes>"
      ]
     },
     "metadata": {},
     "output_type": "display_data"
    },
    {
     "name": "stdout",
     "output_type": "stream",
     "text": [
      "['7', '8', '무', '8', '9', '5', '7']\n"
     ]
    },
    {
     "data": {
      "image/png": "[encoded data removed]",
      "text/plain": [
       "<Figure size 432x288 with 1 Axes>"
      ]
     },
     "metadata": {},
     "output_type": "display_data"
    },
    {
     "name": "stdout",
     "output_type": "stream",
     "text": [
      "['5', '1', '누', '4', '1', '3', '7']\n"
     ]
    },
    {
     "data": {
      "image/png": "[encoded data removed]",
      "text/plain": [
       "<Figure size 432x288 with 1 Axes>"
      ]
     },
     "metadata": {},
     "output_type": "display_data"
    },
    {
     "name": "stdout",
     "output_type": "stream",
     "text": [
      "['9', '4', '수', '0', '9', '8', '4']\n"
     ]
    }
   ],
   "source": [
    "for i in range(3):\n",
    "    val_img = Image.open('tf/tf-validation/' + test_imgs[i])\n",
    "    val_img_np = np.array(val_img.resize((128,64)))\n",
    "    prediction = local_model.predict(val_img_np.reshape([1,128,64,1])/255.)\n",
    "    plt.imshow(val_img)\n",
    "    plt.show()\n",
    "    digits = [JOIN[np.argmax(prediction[0][0])], \n",
    "              JOIN[np.argmax(prediction[1][0])], \n",
    "              JOIN[np.argmax(prediction[2][0])], \n",
    "              JOIN[np.argmax(prediction[3][0])], \n",
    "              JOIN[np.argmax(prediction[4][0])], \n",
    "              JOIN[np.argmax(prediction[5][0])], \n",
    "              JOIN[np.argmax(prediction[6][0])]]\n",
    "    print(digits)"
   ]
  },
  {
   "cell_type": "markdown",
   "metadata": {},
   "source": [
    "* You may utilize above code to build your own inference environment"
   ]
  },
  {
   "cell_type": "code",
   "execution_count": null,
   "metadata": {},
   "outputs": [],
   "source": []
  },
  {
   "cell_type": "markdown",
   "metadata": {},
   "source": [
    "## Going further\n",
    "You must not be satisfied with the results yet. There are still a lot of misclassification. (In the final test results, character '누' is recongnized as '수'.)  \n",
    "We may further refine our model by the following ways:\n",
    "* Adding more training images and more epochs\n",
    "* Adding real world license plate images\n",
    "* Changing an architecture to another structure (ex: CNN + LSTM)\n",
    "* Combining Object detection and this OCR model into one CNN architecture (Usually, end-to-end approach needs more training data)\n",
    "    \n",
    "In our case, adding more training data is the first improvement we can try. Below is the result that I added more training data and tested with 100,000 images. You can see the result was improved with more training data.\n",
    "\n",
    "<br />\n",
    "  \n",
    "<img src='imgs/finalresult.png' stype='width:600px;'/>"
   ]
  },
  {
   "cell_type": "code",
   "execution_count": null,
   "metadata": {},
   "outputs": [],
   "source": []
  },
  {
   "cell_type": "markdown",
   "metadata": {},
   "source": [
    "## Delete Endpoint"
   ]
  },
  {
   "cell_type": "code",
   "execution_count": 34,
   "metadata": {},
   "outputs": [
    {
     "name": "stderr",
     "output_type": "stream",
     "text": [
      "INFO:sagemaker:Deleting endpoint with name: sagemaker-tensorflow-scriptmode-2019-06-06-08-57-04-100\n"
     ]
    }
   ],
   "source": [
    "sagemaker.Session().delete_endpoint(predictor.endpoint)"
   ]
  },
  {
   "cell_type": "markdown",
   "metadata": {},
   "source": [
    "## Next step\n",
    "**Don't forget to delete resources** (Any endpoints, Notebook instance, and S3 bucket) as a final step.  \n",
    "Thank you for your participation.   \n"
   ]
  },
  {
   "cell_type": "code",
   "execution_count": null,
   "metadata": {},
   "outputs": [],
   "source": []
  }
 ],
 "metadata": {
  "kernelspec": {
   "display_name": "conda_tensorflow_p36",
   "language": "python",
   "name": "conda_tensorflow_p36"
  },
  "language_info": {
   "codemirror_mode": {
    "name": "ipython",
    "version": 3
   },
   "file_extension": ".py",
   "mimetype": "text/x-python",
   "name": "python",
   "nbconvert_exporter": "python",
   "pygments_lexer": "ipython3",
   "version": "3.6.13"
  }
 },
 "nbformat": 4,
 "nbformat_minor": 4
}